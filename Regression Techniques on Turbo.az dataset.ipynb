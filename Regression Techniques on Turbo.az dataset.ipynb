{
 "cells": [
  {
   "cell_type": "code",
   "execution_count": 1,
   "id": "b9376c57",
   "metadata": {},
   "outputs": [],
   "source": [
    "#Importing the libraries\n",
    "import numpy as np\n",
    "import pandas as pd\n",
    "import matplotlib.pyplot as plt\n",
    "import seaborn as sns"
   ]
  },
  {
   "cell_type": "code",
   "execution_count": 2,
   "id": "5ec7646c",
   "metadata": {},
   "outputs": [],
   "source": [
    "import warnings\n",
    "warnings.filterwarnings('ignore')"
   ]
  },
  {
   "cell_type": "code",
   "execution_count": 3,
   "id": "85b12cab",
   "metadata": {},
   "outputs": [],
   "source": [
    "#Importing the dataset\n",
    "car_data = pd.read_json('turbo_az.json')\n",
    "cars = pd.read_json('cars.json')\n",
    "data = pd.concat([car_data, cars])\n",
    "data = data.drop_duplicates()\n",
    "data.reset_index(drop=True, inplace=True)"
   ]
  },
  {
   "cell_type": "code",
   "execution_count": 4,
   "id": "ce572374",
   "metadata": {},
   "outputs": [
    {
     "data": {
      "text/html": [
       "<div>\n",
       "<style scoped>\n",
       "    .dataframe tbody tr th:only-of-type {\n",
       "        vertical-align: middle;\n",
       "    }\n",
       "\n",
       "    .dataframe tbody tr th {\n",
       "        vertical-align: top;\n",
       "    }\n",
       "\n",
       "    .dataframe thead th {\n",
       "        text-align: right;\n",
       "    }\n",
       "</style>\n",
       "<table border=\"1\" class=\"dataframe\">\n",
       "  <thead>\n",
       "    <tr style=\"text-align: right;\">\n",
       "      <th></th>\n",
       "      <th>Şəhər</th>\n",
       "      <th>Marka</th>\n",
       "      <th>Model</th>\n",
       "      <th>Buraxılış ili</th>\n",
       "      <th>Ban növü</th>\n",
       "      <th>Rəng</th>\n",
       "      <th>Mühərrik</th>\n",
       "      <th>Mühərrikin gücü</th>\n",
       "      <th>Yanacaq növü</th>\n",
       "      <th>Yürüş</th>\n",
       "      <th>Sürətlər qutusu</th>\n",
       "      <th>Ötürücü</th>\n",
       "      <th>Yeni</th>\n",
       "      <th>Qiymət</th>\n",
       "    </tr>\n",
       "  </thead>\n",
       "  <tbody>\n",
       "    <tr>\n",
       "      <th>0</th>\n",
       "      <td>Bakı</td>\n",
       "      <td>Lexus</td>\n",
       "      <td>LX 570</td>\n",
       "      <td>2016</td>\n",
       "      <td>Offroader / SUV</td>\n",
       "      <td>Boz</td>\n",
       "      <td>5.7 L</td>\n",
       "      <td>367 a.g.</td>\n",
       "      <td>Benzin</td>\n",
       "      <td>84 525 km</td>\n",
       "      <td>Avtomat</td>\n",
       "      <td>Tam</td>\n",
       "      <td>Xeyr</td>\n",
       "      <td>108 500 $</td>\n",
       "    </tr>\n",
       "    <tr>\n",
       "      <th>1</th>\n",
       "      <td>Bakı</td>\n",
       "      <td>SYM</td>\n",
       "      <td>Orbit III</td>\n",
       "      <td>2020</td>\n",
       "      <td>Motosiklet</td>\n",
       "      <td>Tünd qırmızı</td>\n",
       "      <td>0.1 L</td>\n",
       "      <td>2 a.g.</td>\n",
       "      <td>Benzin</td>\n",
       "      <td>0 km</td>\n",
       "      <td>Avtomat</td>\n",
       "      <td>Arxa</td>\n",
       "      <td>Bəli</td>\n",
       "      <td>3 300 AZN</td>\n",
       "    </tr>\n",
       "    <tr>\n",
       "      <th>2</th>\n",
       "      <td>Bakı</td>\n",
       "      <td>Hyundai</td>\n",
       "      <td>Elantra</td>\n",
       "      <td>2007</td>\n",
       "      <td>Sedan</td>\n",
       "      <td>Gümüşü</td>\n",
       "      <td>1.6 L</td>\n",
       "      <td>123 a.g.</td>\n",
       "      <td>Dizel</td>\n",
       "      <td>128 000 km</td>\n",
       "      <td>Avtomat</td>\n",
       "      <td>Ön</td>\n",
       "      <td>Xeyr</td>\n",
       "      <td>16 900 AZN</td>\n",
       "    </tr>\n",
       "    <tr>\n",
       "      <th>3</th>\n",
       "      <td>Bakı</td>\n",
       "      <td>LADA (VAZ)</td>\n",
       "      <td>Vesta SW Cross</td>\n",
       "      <td>2021</td>\n",
       "      <td>Offroader / SUV</td>\n",
       "      <td>Ağ</td>\n",
       "      <td>1.6 L</td>\n",
       "      <td>113 a.g.</td>\n",
       "      <td>Benzin</td>\n",
       "      <td>0 km</td>\n",
       "      <td>Avtomat</td>\n",
       "      <td>Ön</td>\n",
       "      <td>Bəli</td>\n",
       "      <td>26 600 AZN</td>\n",
       "    </tr>\n",
       "    <tr>\n",
       "      <th>4</th>\n",
       "      <td>Bakı</td>\n",
       "      <td>Hyundai</td>\n",
       "      <td>Sonata</td>\n",
       "      <td>2011</td>\n",
       "      <td>Sedan</td>\n",
       "      <td>Ağ</td>\n",
       "      <td>2.0 L</td>\n",
       "      <td>165 a.g.</td>\n",
       "      <td>Benzin</td>\n",
       "      <td>152 000 km</td>\n",
       "      <td>Avtomat</td>\n",
       "      <td>Ön</td>\n",
       "      <td>Xeyr</td>\n",
       "      <td>26 000 AZN</td>\n",
       "    </tr>\n",
       "  </tbody>\n",
       "</table>\n",
       "</div>"
      ],
      "text/plain": [
       "  Şəhər       Marka           Model  Buraxılış ili         Ban növü  \\\n",
       "0  Bakı       Lexus          LX 570           2016  Offroader / SUV   \n",
       "1  Bakı         SYM       Orbit III           2020       Motosiklet   \n",
       "2  Bakı     Hyundai         Elantra           2007            Sedan   \n",
       "3  Bakı  LADA (VAZ)  Vesta SW Cross           2021  Offroader / SUV   \n",
       "4  Bakı     Hyundai          Sonata           2011            Sedan   \n",
       "\n",
       "           Rəng Mühərrik Mühərrikin gücü Yanacaq növü       Yürüş  \\\n",
       "0           Boz    5.7 L        367 a.g.       Benzin   84 525 km   \n",
       "1  Tünd qırmızı    0.1 L          2 a.g.       Benzin        0 km   \n",
       "2        Gümüşü    1.6 L        123 a.g.        Dizel  128 000 km   \n",
       "3            Ağ    1.6 L        113 a.g.       Benzin        0 km   \n",
       "4            Ağ    2.0 L        165 a.g.       Benzin  152 000 km   \n",
       "\n",
       "  Sürətlər qutusu Ötürücü  Yeni      Qiymət  \n",
       "0         Avtomat     Tam  Xeyr   108 500 $  \n",
       "1         Avtomat    Arxa  Bəli   3 300 AZN  \n",
       "2         Avtomat      Ön  Xeyr  16 900 AZN  \n",
       "3         Avtomat      Ön  Bəli  26 600 AZN  \n",
       "4         Avtomat      Ön  Xeyr  26 000 AZN  "
      ]
     },
     "execution_count": 4,
     "metadata": {},
     "output_type": "execute_result"
    }
   ],
   "source": [
    "data.head()"
   ]
  },
  {
   "cell_type": "code",
   "execution_count": 5,
   "id": "0e10e26e",
   "metadata": {},
   "outputs": [
    {
     "data": {
      "text/plain": [
       "(1750, 14)"
      ]
     },
     "execution_count": 5,
     "metadata": {},
     "output_type": "execute_result"
    }
   ],
   "source": [
    "data.shape"
   ]
  },
  {
   "cell_type": "code",
   "execution_count": 6,
   "id": "df87f5a5",
   "metadata": {},
   "outputs": [
    {
     "name": "stdout",
     "output_type": "stream",
     "text": [
      "<class 'pandas.core.frame.DataFrame'>\n",
      "RangeIndex: 1750 entries, 0 to 1749\n",
      "Data columns (total 14 columns):\n",
      " #   Column           Non-Null Count  Dtype \n",
      "---  ------           --------------  ----- \n",
      " 0   Şəhər            1750 non-null   object\n",
      " 1   Marka            1750 non-null   object\n",
      " 2   Model            1750 non-null   object\n",
      " 3   Buraxılış ili    1750 non-null   int64 \n",
      " 4   Ban növü         1750 non-null   object\n",
      " 5   Rəng             1750 non-null   object\n",
      " 6   Mühərrik         1750 non-null   object\n",
      " 7   Mühərrikin gücü  1750 non-null   object\n",
      " 8   Yanacaq növü     1750 non-null   object\n",
      " 9   Yürüş            1750 non-null   object\n",
      " 10  Sürətlər qutusu  1750 non-null   object\n",
      " 11  Ötürücü          1750 non-null   object\n",
      " 12  Yeni             1750 non-null   object\n",
      " 13  Qiymət           1750 non-null   object\n",
      "dtypes: int64(1), object(13)\n",
      "memory usage: 102.6+ KB\n"
     ]
    }
   ],
   "source": [
    "data.info()"
   ]
  },
  {
   "cell_type": "code",
   "execution_count": 7,
   "id": "21156adb",
   "metadata": {},
   "outputs": [],
   "source": [
    "data['Buraxılış ili'] = pd.to_numeric(data['Buraxılış ili'])\n",
    "\n",
    "data['Age'] = pd.datetime.today().year - data['Buraxılış ili']\n",
    "data.drop('Buraxılış ili', axis=1, inplace=True)\n",
    "\n",
    "data['Mühərrik'] = data['Mühərrik'].str[:-1].str.strip().astype(float)\n",
    "\n",
    "data['Mühərrikin gücü'] = data['Mühərrikin gücü'].str[:-4].str.strip().astype(float)\n",
    "\n",
    "data['Yürüş'] = data['Yürüş'].str[:-2].str.strip().str.replace(' ','').astype(float)\n",
    "\n",
    "data['Qiymət'] = data['Qiymət'].str.replace(' ','').astype(str)\n",
    "x = data[data['Qiymət'].str.contains('AZN')==False]['Qiymət'].str[:-1].astype(int)*1.70\n",
    "y = data[data['Qiymət'].str.contains('AZN')]['Qiymət'].str[:-3].astype(int)\n",
    "data['Price'] = pd.concat([x,y])\n",
    "data.drop('Qiymət', axis=1, inplace=True)"
   ]
  },
  {
   "cell_type": "code",
   "execution_count": 8,
   "id": "7ebe0775",
   "metadata": {},
   "outputs": [
    {
     "data": {
      "text/html": [
       "<div>\n",
       "<style scoped>\n",
       "    .dataframe tbody tr th:only-of-type {\n",
       "        vertical-align: middle;\n",
       "    }\n",
       "\n",
       "    .dataframe tbody tr th {\n",
       "        vertical-align: top;\n",
       "    }\n",
       "\n",
       "    .dataframe thead th {\n",
       "        text-align: right;\n",
       "    }\n",
       "</style>\n",
       "<table border=\"1\" class=\"dataframe\">\n",
       "  <thead>\n",
       "    <tr style=\"text-align: right;\">\n",
       "      <th></th>\n",
       "      <th>Column</th>\n",
       "      <th>Unique</th>\n",
       "      <th>Count</th>\n",
       "    </tr>\n",
       "  </thead>\n",
       "  <tbody>\n",
       "    <tr>\n",
       "      <th>0</th>\n",
       "      <td>Şəhər</td>\n",
       "      <td>[Bakı, Tərtər, Salyan, Gəncə, Siyəzən, Xırdala...</td>\n",
       "      <td>42</td>\n",
       "    </tr>\n",
       "    <tr>\n",
       "      <th>1</th>\n",
       "      <td>Marka</td>\n",
       "      <td>[Lexus, SYM, Hyundai, LADA (VAZ), BMW, Land Ro...</td>\n",
       "      <td>70</td>\n",
       "    </tr>\n",
       "    <tr>\n",
       "      <th>2</th>\n",
       "      <td>Model</td>\n",
       "      <td>[LX 570, Orbit III, Elantra, Vesta SW Cross, S...</td>\n",
       "      <td>378</td>\n",
       "    </tr>\n",
       "    <tr>\n",
       "      <th>3</th>\n",
       "      <td>Ban növü</td>\n",
       "      <td>[Offroader / SUV, Motosiklet, Sedan, Hetçbek /...</td>\n",
       "      <td>14</td>\n",
       "    </tr>\n",
       "    <tr>\n",
       "      <th>4</th>\n",
       "      <td>Rəng</td>\n",
       "      <td>[Boz, Tünd qırmızı, Gümüşü, Ağ, Yaş Asfalt, Qə...</td>\n",
       "      <td>16</td>\n",
       "    </tr>\n",
       "    <tr>\n",
       "      <th>5</th>\n",
       "      <td>Yanacaq növü</td>\n",
       "      <td>[Benzin, Dizel, Hibrid, Elektro, Qaz]</td>\n",
       "      <td>5</td>\n",
       "    </tr>\n",
       "    <tr>\n",
       "      <th>6</th>\n",
       "      <td>Sürətlər qutusu</td>\n",
       "      <td>[Avtomat, Mexaniki, Variator, Robotlaşdırılmış]</td>\n",
       "      <td>4</td>\n",
       "    </tr>\n",
       "    <tr>\n",
       "      <th>7</th>\n",
       "      <td>Ötürücü</td>\n",
       "      <td>[Tam, Arxa, Ön]</td>\n",
       "      <td>3</td>\n",
       "    </tr>\n",
       "    <tr>\n",
       "      <th>8</th>\n",
       "      <td>Yeni</td>\n",
       "      <td>[Xeyr, Bəli]</td>\n",
       "      <td>2</td>\n",
       "    </tr>\n",
       "  </tbody>\n",
       "</table>\n",
       "</div>"
      ],
      "text/plain": [
       "            Column                                             Unique  Count\n",
       "0            Şəhər  [Bakı, Tərtər, Salyan, Gəncə, Siyəzən, Xırdala...     42\n",
       "1            Marka  [Lexus, SYM, Hyundai, LADA (VAZ), BMW, Land Ro...     70\n",
       "2            Model  [LX 570, Orbit III, Elantra, Vesta SW Cross, S...    378\n",
       "3         Ban növü  [Offroader / SUV, Motosiklet, Sedan, Hetçbek /...     14\n",
       "4             Rəng  [Boz, Tünd qırmızı, Gümüşü, Ağ, Yaş Asfalt, Qə...     16\n",
       "5     Yanacaq növü              [Benzin, Dizel, Hibrid, Elektro, Qaz]      5\n",
       "6  Sürətlər qutusu    [Avtomat, Mexaniki, Variator, Robotlaşdırılmış]      4\n",
       "7          Ötürücü                                    [Tam, Arxa, Ön]      3\n",
       "8             Yeni                                       [Xeyr, Bəli]      2"
      ]
     },
     "execution_count": 8,
     "metadata": {},
     "output_type": "execute_result"
    }
   ],
   "source": [
    "cat_data = data.select_dtypes(include=object)\n",
    "\n",
    "pd.DataFrame({'Column':cat_data.columns, 'Unique':[cat_data[i].unique() for i in cat_data.columns], 'Count':[len(cat_data[i].unique()) for i in cat_data.columns]})"
   ]
  },
  {
   "cell_type": "code",
   "execution_count": 9,
   "id": "633a0d01",
   "metadata": {},
   "outputs": [
    {
     "data": {
      "text/plain": [
       "['Yanacaq növü', 'Sürətlər qutusu', 'Ötürücü', 'Yeni']"
      ]
     },
     "execution_count": 9,
     "metadata": {},
     "output_type": "execute_result"
    }
   ],
   "source": [
    "categorical = list(cat_data.iloc[:,5:].columns)\n",
    "categorical"
   ]
  },
  {
   "cell_type": "code",
   "execution_count": 10,
   "id": "645b23b1",
   "metadata": {},
   "outputs": [
    {
     "data": {
      "text/plain": [
       "['Mühərrik', 'Mühərrikin gücü', 'Yürüş', 'Age']"
      ]
     },
     "execution_count": 10,
     "metadata": {},
     "output_type": "execute_result"
    }
   ],
   "source": [
    "numerical = list(data.select_dtypes(exclude=object).iloc[:,:-1].columns)\n",
    "numerical"
   ]
  },
  {
   "cell_type": "markdown",
   "id": "c55595c0",
   "metadata": {},
   "source": [
    "### Backward Elimination"
   ]
  },
  {
   "cell_type": "code",
   "execution_count": 11,
   "id": "97019b6d",
   "metadata": {},
   "outputs": [],
   "source": [
    "# Encoding categorical data\n",
    "# Avoiding the Dummy Variable Trap\n",
    "auto = pd.DataFrame()\n",
    "for i in categorical:\n",
    "    dummies = pd.get_dummies(data[i], drop_first=True)\n",
    "    auto = pd.concat([auto, dummies], axis = 1)"
   ]
  },
  {
   "cell_type": "code",
   "execution_count": 12,
   "id": "51f09e15",
   "metadata": {},
   "outputs": [],
   "source": [
    "auto[numerical] = data[numerical]\n",
    "auto = auto.values"
   ]
  },
  {
   "cell_type": "code",
   "execution_count": 13,
   "id": "ad4259e3",
   "metadata": {},
   "outputs": [
    {
     "ename": "NameError",
     "evalue": "name 'X' is not defined",
     "output_type": "error",
     "traceback": [
      "\u001b[1;31m---------------------------------------------------------------------------\u001b[0m",
      "\u001b[1;31mNameError\u001b[0m                                 Traceback (most recent call last)",
      "\u001b[1;32m<ipython-input-13-4da87d78cb7f>\u001b[0m in \u001b[0;36m<module>\u001b[1;34m\u001b[0m\n\u001b[0;32m      1\u001b[0m \u001b[0my\u001b[0m \u001b[1;33m=\u001b[0m \u001b[0mdata\u001b[0m\u001b[1;33m.\u001b[0m\u001b[0miloc\u001b[0m\u001b[1;33m[\u001b[0m\u001b[1;33m:\u001b[0m\u001b[1;33m,\u001b[0m\u001b[1;33m-\u001b[0m\u001b[1;36m1\u001b[0m\u001b[1;33m]\u001b[0m\u001b[1;33m.\u001b[0m\u001b[0mvalues\u001b[0m\u001b[1;33m\u001b[0m\u001b[1;33m\u001b[0m\u001b[0m\n\u001b[1;32m----> 2\u001b[1;33m \u001b[0mX\u001b[0m \u001b[1;33m=\u001b[0m \u001b[0mnp\u001b[0m\u001b[1;33m.\u001b[0m\u001b[0mappend\u001b[0m\u001b[1;33m(\u001b[0m\u001b[0marr\u001b[0m\u001b[1;33m=\u001b[0m\u001b[0mnp\u001b[0m\u001b[1;33m.\u001b[0m\u001b[0mones\u001b[0m\u001b[1;33m(\u001b[0m\u001b[1;33m(\u001b[0m\u001b[0mlen\u001b[0m\u001b[1;33m(\u001b[0m\u001b[0mX\u001b[0m\u001b[1;33m)\u001b[0m\u001b[1;33m,\u001b[0m\u001b[1;36m1\u001b[0m\u001b[1;33m)\u001b[0m\u001b[1;33m,\u001b[0m \u001b[0mdtype\u001b[0m\u001b[1;33m=\u001b[0m\u001b[0mfloat\u001b[0m\u001b[1;33m)\u001b[0m\u001b[1;33m,\u001b[0m \u001b[0mvalues\u001b[0m\u001b[1;33m=\u001b[0m\u001b[0mauto\u001b[0m\u001b[1;33m,\u001b[0m \u001b[0maxis\u001b[0m\u001b[1;33m=\u001b[0m\u001b[1;36m1\u001b[0m\u001b[1;33m)\u001b[0m\u001b[1;33m\u001b[0m\u001b[1;33m\u001b[0m\u001b[0m\n\u001b[0m",
      "\u001b[1;31mNameError\u001b[0m: name 'X' is not defined"
     ]
    }
   ],
   "source": [
    "y = data.iloc[:,-1].values\n",
    "X = np.append(arr=np.ones((len(a),1), dtype=float), values=auto, axis=1)"
   ]
  },
  {
   "cell_type": "code",
   "execution_count": null,
   "id": "744dce21",
   "metadata": {},
   "outputs": [],
   "source": [
    "import statsmodels.api as sm\n",
    "X_opt = np.array(X[:, [0,1,3,5,8,9,10,11,12,14]], dtype=float)\n",
    "regressor_OLS = sm.OLS(endog = y, exog = X_opt).fit()\n",
    "regressor_OLS.summary()"
   ]
  },
  {
   "cell_type": "markdown",
   "id": "cdbf7703",
   "metadata": {},
   "source": [
    "### Multiple Linear Regression"
   ]
  },
  {
   "cell_type": "code",
   "execution_count": null,
   "id": "3252a406",
   "metadata": {},
   "outputs": [],
   "source": [
    "data.head()"
   ]
  },
  {
   "cell_type": "code",
   "execution_count": null,
   "id": "3ea23131",
   "metadata": {},
   "outputs": [],
   "source": [
    "#Seperating dependent and independent variables\n",
    "X = data[categorical+numerical].values\n",
    "y = data.iloc[:,-1]"
   ]
  },
  {
   "cell_type": "code",
   "execution_count": null,
   "id": "cbab748c",
   "metadata": {},
   "outputs": [],
   "source": [
    "#Splitting the dataset into the Training set and Test set\n",
    "from sklearn.model_selection import train_test_split\n",
    "train_X, test_X, train_y, test_y = train_test_split(X,y, test_size=0.20, random_state=0)"
   ]
  },
  {
   "cell_type": "code",
   "execution_count": null,
   "id": "2caa8611",
   "metadata": {},
   "outputs": [],
   "source": [
    "print(train_X[0])\n",
    "print(test_X[0])"
   ]
  },
  {
   "cell_type": "code",
   "execution_count": null,
   "id": "0b8ccceb",
   "metadata": {},
   "outputs": [],
   "source": [
    "# Encoding the Independent Variable\n",
    "from sklearn.compose import ColumnTransformer\n",
    "from sklearn.preprocessing import OneHotEncoder\n",
    "ct = ColumnTransformer(transformers=[('encoder', OneHotEncoder(), [0,1,2,3])], remainder='passthrough')\n",
    "train_X = np.array(ct.fit_transform(train_X))\n",
    "test_X = np.array(ct.transform(test_X))"
   ]
  },
  {
   "cell_type": "code",
   "execution_count": null,
   "id": "ce955349",
   "metadata": {},
   "outputs": [],
   "source": [
    "print(train_X[0])\n",
    "print(test_X[0])"
   ]
  },
  {
   "cell_type": "code",
   "execution_count": null,
   "id": "4211d407",
   "metadata": {},
   "outputs": [],
   "source": [
    "#Feature Scaling\n",
    "from sklearn.preprocessing import StandardScaler\n",
    "sc = StandardScaler()\n",
    "train_X[:, 14:] = sc.fit_transform(train_X[:,14:])\n",
    "test_X[:,14:] = sc.transform(test_X[:,14:])"
   ]
  },
  {
   "cell_type": "code",
   "execution_count": null,
   "id": "2e86955a",
   "metadata": {},
   "outputs": [],
   "source": [
    "print(train_X[0])\n",
    "print(test_X[0])"
   ]
  },
  {
   "cell_type": "code",
   "execution_count": null,
   "id": "6e753ea2",
   "metadata": {},
   "outputs": [],
   "source": [
    "#Training the Multiple Linear Regression model on the Training set\n",
    "from sklearn.linear_model import LinearRegression\n",
    "regressor = LinearRegression()\n",
    "regressor.fit(train_X,train_y)"
   ]
  },
  {
   "cell_type": "code",
   "execution_count": null,
   "id": "447f9266",
   "metadata": {},
   "outputs": [],
   "source": [
    "#Predicting the Test set results\n",
    "y_pred = regressor.predict(test_X)"
   ]
  },
  {
   "cell_type": "code",
   "execution_count": null,
   "id": "cf853794",
   "metadata": {},
   "outputs": [],
   "source": [
    "#Evaluating the Model Performance\n",
    "from sklearn.metrics import r2_score\n",
    "r2_score(test_y, y_pred)"
   ]
  },
  {
   "cell_type": "markdown",
   "id": "45ef44e5",
   "metadata": {},
   "source": [
    "Multiple Linear Regression has got only 59.7% accuracy."
   ]
  },
  {
   "cell_type": "markdown",
   "id": "84bddea0",
   "metadata": {},
   "source": [
    "### Polynomial Regression"
   ]
  },
  {
   "cell_type": "code",
   "execution_count": null,
   "id": "65231ace",
   "metadata": {},
   "outputs": [],
   "source": [
    "from sklearn.preprocessing import PolynomialFeatures\n",
    "from sklearn.linear_model import LinearRegression\n",
    "poly_reg = PolynomialFeatures(degree = 2)\n",
    "X_poly = poly_reg.fit_transform(train_X)\n",
    "regressor = LinearRegression()\n",
    "regressor.fit(X_poly, train_y)"
   ]
  },
  {
   "cell_type": "code",
   "execution_count": null,
   "id": "2389ffcc",
   "metadata": {},
   "outputs": [],
   "source": [
    "y_pred = regressor.predict(poly_reg.transform(test_X))"
   ]
  },
  {
   "cell_type": "code",
   "execution_count": null,
   "id": "31c40c33",
   "metadata": {},
   "outputs": [],
   "source": [
    "from sklearn.metrics import r2_score\n",
    "r2_score(test_y, y_pred)"
   ]
  },
  {
   "cell_type": "markdown",
   "id": "caa12969",
   "metadata": {},
   "source": [
    "Our data doesn't have non-linear relationship that's why we don't get satisfying results for Polynomial Regression."
   ]
  },
  {
   "cell_type": "markdown",
   "id": "2a014aa2",
   "metadata": {},
   "source": [
    "### Support Vector Regression "
   ]
  },
  {
   "cell_type": "code",
   "execution_count": null,
   "id": "5121df45",
   "metadata": {},
   "outputs": [],
   "source": [
    "from sklearn.preprocessing import StandardScaler\n",
    "sc_y = StandardScaler()\n",
    "y_train = sc_y.fit_transform(train_y.values.reshape(-1,1))"
   ]
  },
  {
   "cell_type": "code",
   "execution_count": null,
   "id": "5341a249",
   "metadata": {},
   "outputs": [],
   "source": [
    "from sklearn.svm import SVR\n",
    "regressor = SVR(kernel='rbf')\n",
    "regressor.fit(train_X, y_train)"
   ]
  },
  {
   "cell_type": "code",
   "execution_count": null,
   "id": "c856e177",
   "metadata": {},
   "outputs": [],
   "source": [
    "y_pred = sc_y.inverse_transform(regressor.predict(test_X))"
   ]
  },
  {
   "cell_type": "code",
   "execution_count": null,
   "id": "433b5862",
   "metadata": {},
   "outputs": [],
   "source": [
    "from sklearn.metrics import r2_score\n",
    "r2_score(test_y, y_pred)"
   ]
  },
  {
   "cell_type": "markdown",
   "id": "ba876fe2",
   "metadata": {},
   "source": [
    "Support Vector Regression perform better than Multiple Regression Model with 83.7% accuracy."
   ]
  },
  {
   "cell_type": "markdown",
   "id": "92ce845e",
   "metadata": {},
   "source": [
    "### Decision Tree Regression"
   ]
  },
  {
   "cell_type": "code",
   "execution_count": null,
   "id": "2e945d29",
   "metadata": {},
   "outputs": [],
   "source": [
    "from sklearn.model_selection import train_test_split\n",
    "X_train, X_test, y_train, y_test = train_test_split(X, y, test_size = 0.2, random_state = 0)"
   ]
  },
  {
   "cell_type": "code",
   "execution_count": null,
   "id": "766513db",
   "metadata": {},
   "outputs": [],
   "source": [
    "from sklearn.compose import ColumnTransformer\n",
    "from sklearn.preprocessing import OneHotEncoder\n",
    "ct = ColumnTransformer(transformers=[('encoder', OneHotEncoder(), [0,1,2,3])], remainder='passthrough')\n",
    "X_train = np.array(ct.fit_transform(X_train))\n",
    "X_test = np.array(ct.transform(X_test))"
   ]
  },
  {
   "cell_type": "code",
   "execution_count": null,
   "id": "367351f4",
   "metadata": {},
   "outputs": [],
   "source": [
    "from sklearn.tree import DecisionTreeRegressor\n",
    "regressor = DecisionTreeRegressor(random_state = 0)\n",
    "regressor.fit(X_train, y_train)"
   ]
  },
  {
   "cell_type": "code",
   "execution_count": null,
   "id": "47c9f6bb",
   "metadata": {},
   "outputs": [],
   "source": [
    "y_pred = regressor.predict(X_test)"
   ]
  },
  {
   "cell_type": "code",
   "execution_count": null,
   "id": "83fb261c",
   "metadata": {},
   "outputs": [],
   "source": [
    "r2_score(y_test, y_pred)"
   ]
  },
  {
   "cell_type": "markdown",
   "id": "c9b0605e",
   "metadata": {},
   "source": [
    "Decision Tree Regression also has a good performance."
   ]
  },
  {
   "cell_type": "markdown",
   "id": "68b3127e",
   "metadata": {},
   "source": [
    "**Note**: We don't have to apply feature scaling for decision tree regression and neither for random forest regression, because predictions from decision tree regression and random forest regression model are resulting from successive splits of the data, and there aren't some equations like the other models."
   ]
  },
  {
   "cell_type": "markdown",
   "id": "d48d2500",
   "metadata": {},
   "source": [
    "### Random Forest Regression"
   ]
  },
  {
   "cell_type": "code",
   "execution_count": null,
   "id": "9dc6515f",
   "metadata": {},
   "outputs": [],
   "source": [
    "from sklearn.ensemble import RandomForestRegressor\n",
    "regressor = RandomForestRegressor(n_estimators = 1000, random_state = 0)\n",
    "regressor.fit(X_train, y_train)"
   ]
  },
  {
   "cell_type": "code",
   "execution_count": null,
   "id": "8a246e25",
   "metadata": {},
   "outputs": [],
   "source": [
    "y_pred = regressor.predict(X_test)"
   ]
  },
  {
   "cell_type": "code",
   "execution_count": null,
   "id": "74e3ba3f",
   "metadata": {},
   "outputs": [],
   "source": [
    "r2_score(y_test, y_pred)"
   ]
  },
  {
   "cell_type": "markdown",
   "id": "090f5631",
   "metadata": {},
   "source": [
    "With 89% accuracy Random Forest Regression has the best performance so far."
   ]
  },
  {
   "cell_type": "code",
   "execution_count": null,
   "id": "5117040e",
   "metadata": {},
   "outputs": [],
   "source": []
  }
 ],
 "metadata": {
  "kernelspec": {
   "display_name": "Python 3",
   "language": "python",
   "name": "python3"
  },
  "language_info": {
   "codemirror_mode": {
    "name": "ipython",
    "version": 3
   },
   "file_extension": ".py",
   "mimetype": "text/x-python",
   "name": "python",
   "nbconvert_exporter": "python",
   "pygments_lexer": "ipython3",
   "version": "3.8.8"
  }
 },
 "nbformat": 4,
 "nbformat_minor": 5
}
