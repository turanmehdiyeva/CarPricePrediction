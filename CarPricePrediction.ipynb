{
 "cells": [
  {
   "cell_type": "code",
   "execution_count": 1,
   "id": "a35e7cc7",
   "metadata": {},
   "outputs": [],
   "source": [
    "#imporing important libraries\n",
    "import numpy as np\n",
    "import pandas as pd\n",
    "import matplotlib.pyplot as plt\n",
    "import seaborn as sns\n",
    "%matplotlib inline"
   ]
  },
  {
   "cell_type": "code",
   "execution_count": 2,
   "id": "5e960232",
   "metadata": {},
   "outputs": [],
   "source": [
    "import warnings\n",
    "warnings.filterwarnings('ignore')"
   ]
  },
  {
   "cell_type": "code",
   "execution_count": 3,
   "id": "84b003d1",
   "metadata": {},
   "outputs": [],
   "source": [
    "import json\n",
    "\n",
    "def save_data(title,data):\n",
    "    with open(title, 'w', encoding='utf-8') as f:\n",
    "        json.dump(data, f, ensure_ascii=False, indent=2)\n",
    "        \n",
    "        \n",
    "def load_data(title):\n",
    "    with open(title, encoding='utf-8') as f:\n",
    "        return json.load(f)"
   ]
  },
  {
   "cell_type": "code",
   "execution_count": 41,
   "id": "e812da06",
   "metadata": {},
   "outputs": [],
   "source": [
    "car_data = load_data('turbo_az.json')\n",
    "\n",
    "car_data = pd.DataFrame(car_data)\n",
    "\n",
    "cars = load_data('cars.json')\n",
    "\n",
    "carsd = pd.DataFrame(cars)\n",
    "\n",
    "data = pd.concat([car_data, carsd])\n",
    "\n",
    "data.duplicated().sum()\n",
    "\n",
    "data = data.drop_duplicates()\n",
    "\n",
    "data.reset_index(drop=True, inplace=True)"
   ]
  },
  {
   "cell_type": "code",
   "execution_count": 42,
   "id": "1a8dabd9",
   "metadata": {},
   "outputs": [],
   "source": [
    "#Data cleaning\n",
    "data['Buraxılış ili'] = pd.to_numeric(data['Buraxılış ili'])\n",
    "\n",
    "data['Mühərrik'] = data['Mühərrik'].str[:-1].str.strip().astype(float)\n",
    "\n",
    "data['Mühərrikin gücü'] = data['Mühərrikin gücü'].str[:-4].str.strip().astype(float)\n",
    "\n",
    "data['Yürüş'] = data['Yürüş'].str[:-2].str.strip().str.replace(' ','').astype(float)\n",
    "\n",
    "data['Qiymət'] = data['Qiymət'].str.replace(' ','').astype(str)\n",
    "x = data[data['Qiymət'].str.contains('AZN')==False]['Qiymət'].str[:-1].astype(int)*1.70\n",
    "y = data[data['Qiymət'].str.contains('AZN')]['Qiymət'].str[:-3].astype(int)\n",
    "data['Price'] = pd.concat([x,y])\n",
    "data.drop('Qiymət', axis=1, inplace=True)"
   ]
  },
  {
   "cell_type": "code",
   "execution_count": 43,
   "id": "bea60212",
   "metadata": {},
   "outputs": [
    {
     "name": "stdout",
     "output_type": "stream",
     "text": [
      "<class 'pandas.core.frame.DataFrame'>\n",
      "RangeIndex: 1750 entries, 0 to 1749\n",
      "Data columns (total 14 columns):\n",
      " #   Column           Non-Null Count  Dtype  \n",
      "---  ------           --------------  -----  \n",
      " 0   Şəhər            1750 non-null   object \n",
      " 1   Marka            1750 non-null   object \n",
      " 2   Model            1750 non-null   object \n",
      " 3   Buraxılış ili    1750 non-null   int64  \n",
      " 4   Ban növü         1750 non-null   object \n",
      " 5   Rəng             1750 non-null   object \n",
      " 6   Mühərrik         1750 non-null   float64\n",
      " 7   Mühərrikin gücü  1750 non-null   float64\n",
      " 8   Yanacaq növü     1750 non-null   object \n",
      " 9   Yürüş            1750 non-null   float64\n",
      " 10  Sürətlər qutusu  1750 non-null   object \n",
      " 11  Ötürücü          1750 non-null   object \n",
      " 12  Yeni             1750 non-null   object \n",
      " 13  Price            1750 non-null   float64\n",
      "dtypes: float64(4), int64(1), object(9)\n",
      "memory usage: 129.9+ KB\n"
     ]
    }
   ],
   "source": [
    "data.info()"
   ]
  },
  {
   "cell_type": "code",
   "execution_count": 44,
   "id": "439b044c",
   "metadata": {},
   "outputs": [],
   "source": [
    "categorical = ['Ban növü','Ötürücü','Sürətlər qutusu','Yanacaq növü','Yeni']\n",
    "numerical = ['Buraxılış ili','Mühərrikin gücü', 'Mühərrik', 'Yürüş']"
   ]
  },
  {
   "cell_type": "code",
   "execution_count": 45,
   "id": "8d318890",
   "metadata": {},
   "outputs": [],
   "source": [
    "#Removing outliers"
   ]
  },
  {
   "cell_type": "code",
   "execution_count": 46,
   "id": "8521e699",
   "metadata": {},
   "outputs": [
    {
     "data": {
      "text/html": [
       "<div>\n",
       "<style scoped>\n",
       "    .dataframe tbody tr th:only-of-type {\n",
       "        vertical-align: middle;\n",
       "    }\n",
       "\n",
       "    .dataframe tbody tr th {\n",
       "        vertical-align: top;\n",
       "    }\n",
       "\n",
       "    .dataframe thead th {\n",
       "        text-align: right;\n",
       "    }\n",
       "</style>\n",
       "<table border=\"1\" class=\"dataframe\">\n",
       "  <thead>\n",
       "    <tr style=\"text-align: right;\">\n",
       "      <th></th>\n",
       "      <th>Ban növü</th>\n",
       "    </tr>\n",
       "  </thead>\n",
       "  <tbody>\n",
       "    <tr>\n",
       "      <th>Sedan</th>\n",
       "      <td>853</td>\n",
       "    </tr>\n",
       "    <tr>\n",
       "      <th>Offroader / SUV</th>\n",
       "      <td>468</td>\n",
       "    </tr>\n",
       "    <tr>\n",
       "      <th>Hetçbek / Liftbek</th>\n",
       "      <td>217</td>\n",
       "    </tr>\n",
       "    <tr>\n",
       "      <th>Universal</th>\n",
       "      <td>66</td>\n",
       "    </tr>\n",
       "    <tr>\n",
       "      <th>Furqon</th>\n",
       "      <td>33</td>\n",
       "    </tr>\n",
       "    <tr>\n",
       "      <th>Yük maşını</th>\n",
       "      <td>27</td>\n",
       "    </tr>\n",
       "    <tr>\n",
       "      <th>Minivan</th>\n",
       "      <td>21</td>\n",
       "    </tr>\n",
       "    <tr>\n",
       "      <th>Pikap</th>\n",
       "      <td>17</td>\n",
       "    </tr>\n",
       "    <tr>\n",
       "      <th>Kupe</th>\n",
       "      <td>16</td>\n",
       "    </tr>\n",
       "    <tr>\n",
       "      <th>Motosiklet</th>\n",
       "      <td>10</td>\n",
       "    </tr>\n",
       "    <tr>\n",
       "      <th>Van</th>\n",
       "      <td>8</td>\n",
       "    </tr>\n",
       "    <tr>\n",
       "      <th>Dartqı</th>\n",
       "      <td>7</td>\n",
       "    </tr>\n",
       "    <tr>\n",
       "      <th>Mikroavtobus</th>\n",
       "      <td>6</td>\n",
       "    </tr>\n",
       "    <tr>\n",
       "      <th>Kabrio</th>\n",
       "      <td>1</td>\n",
       "    </tr>\n",
       "  </tbody>\n",
       "</table>\n",
       "</div>"
      ],
      "text/plain": [
       "                   Ban növü\n",
       "Sedan                   853\n",
       "Offroader / SUV         468\n",
       "Hetçbek / Liftbek       217\n",
       "Universal                66\n",
       "Furqon                   33\n",
       "Yük maşını               27\n",
       "Minivan                  21\n",
       "Pikap                    17\n",
       "Kupe                     16\n",
       "Motosiklet               10\n",
       "Van                       8\n",
       "Dartqı                    7\n",
       "Mikroavtobus              6\n",
       "Kabrio                    1"
      ]
     },
     "metadata": {},
     "output_type": "display_data"
    },
    {
     "data": {
      "text/html": [
       "<div>\n",
       "<style scoped>\n",
       "    .dataframe tbody tr th:only-of-type {\n",
       "        vertical-align: middle;\n",
       "    }\n",
       "\n",
       "    .dataframe tbody tr th {\n",
       "        vertical-align: top;\n",
       "    }\n",
       "\n",
       "    .dataframe thead th {\n",
       "        text-align: right;\n",
       "    }\n",
       "</style>\n",
       "<table border=\"1\" class=\"dataframe\">\n",
       "  <thead>\n",
       "    <tr style=\"text-align: right;\">\n",
       "      <th></th>\n",
       "      <th>Ötürücü</th>\n",
       "    </tr>\n",
       "  </thead>\n",
       "  <tbody>\n",
       "    <tr>\n",
       "      <th>Ön</th>\n",
       "      <td>842</td>\n",
       "    </tr>\n",
       "    <tr>\n",
       "      <th>Tam</th>\n",
       "      <td>469</td>\n",
       "    </tr>\n",
       "    <tr>\n",
       "      <th>Arxa</th>\n",
       "      <td>439</td>\n",
       "    </tr>\n",
       "  </tbody>\n",
       "</table>\n",
       "</div>"
      ],
      "text/plain": [
       "      Ötürücü\n",
       "Ön        842\n",
       "Tam       469\n",
       "Arxa      439"
      ]
     },
     "metadata": {},
     "output_type": "display_data"
    },
    {
     "data": {
      "text/html": [
       "<div>\n",
       "<style scoped>\n",
       "    .dataframe tbody tr th:only-of-type {\n",
       "        vertical-align: middle;\n",
       "    }\n",
       "\n",
       "    .dataframe tbody tr th {\n",
       "        vertical-align: top;\n",
       "    }\n",
       "\n",
       "    .dataframe thead th {\n",
       "        text-align: right;\n",
       "    }\n",
       "</style>\n",
       "<table border=\"1\" class=\"dataframe\">\n",
       "  <thead>\n",
       "    <tr style=\"text-align: right;\">\n",
       "      <th></th>\n",
       "      <th>Sürətlər qutusu</th>\n",
       "    </tr>\n",
       "  </thead>\n",
       "  <tbody>\n",
       "    <tr>\n",
       "      <th>Avtomat</th>\n",
       "      <td>1327</td>\n",
       "    </tr>\n",
       "    <tr>\n",
       "      <th>Mexaniki</th>\n",
       "      <td>406</td>\n",
       "    </tr>\n",
       "    <tr>\n",
       "      <th>Variator</th>\n",
       "      <td>10</td>\n",
       "    </tr>\n",
       "    <tr>\n",
       "      <th>Robotlaşdırılmış</th>\n",
       "      <td>7</td>\n",
       "    </tr>\n",
       "  </tbody>\n",
       "</table>\n",
       "</div>"
      ],
      "text/plain": [
       "                  Sürətlər qutusu\n",
       "Avtomat                      1327\n",
       "Mexaniki                      406\n",
       "Variator                       10\n",
       "Robotlaşdırılmış                7"
      ]
     },
     "metadata": {},
     "output_type": "display_data"
    },
    {
     "data": {
      "text/html": [
       "<div>\n",
       "<style scoped>\n",
       "    .dataframe tbody tr th:only-of-type {\n",
       "        vertical-align: middle;\n",
       "    }\n",
       "\n",
       "    .dataframe tbody tr th {\n",
       "        vertical-align: top;\n",
       "    }\n",
       "\n",
       "    .dataframe thead th {\n",
       "        text-align: right;\n",
       "    }\n",
       "</style>\n",
       "<table border=\"1\" class=\"dataframe\">\n",
       "  <thead>\n",
       "    <tr style=\"text-align: right;\">\n",
       "      <th></th>\n",
       "      <th>Yanacaq növü</th>\n",
       "    </tr>\n",
       "  </thead>\n",
       "  <tbody>\n",
       "    <tr>\n",
       "      <th>Benzin</th>\n",
       "      <td>1393</td>\n",
       "    </tr>\n",
       "    <tr>\n",
       "      <th>Dizel</th>\n",
       "      <td>286</td>\n",
       "    </tr>\n",
       "    <tr>\n",
       "      <th>Hibrid</th>\n",
       "      <td>65</td>\n",
       "    </tr>\n",
       "    <tr>\n",
       "      <th>Elektro</th>\n",
       "      <td>4</td>\n",
       "    </tr>\n",
       "    <tr>\n",
       "      <th>Qaz</th>\n",
       "      <td>2</td>\n",
       "    </tr>\n",
       "  </tbody>\n",
       "</table>\n",
       "</div>"
      ],
      "text/plain": [
       "         Yanacaq növü\n",
       "Benzin           1393\n",
       "Dizel             286\n",
       "Hibrid             65\n",
       "Elektro             4\n",
       "Qaz                 2"
      ]
     },
     "metadata": {},
     "output_type": "display_data"
    },
    {
     "data": {
      "text/html": [
       "<div>\n",
       "<style scoped>\n",
       "    .dataframe tbody tr th:only-of-type {\n",
       "        vertical-align: middle;\n",
       "    }\n",
       "\n",
       "    .dataframe tbody tr th {\n",
       "        vertical-align: top;\n",
       "    }\n",
       "\n",
       "    .dataframe thead th {\n",
       "        text-align: right;\n",
       "    }\n",
       "</style>\n",
       "<table border=\"1\" class=\"dataframe\">\n",
       "  <thead>\n",
       "    <tr style=\"text-align: right;\">\n",
       "      <th></th>\n",
       "      <th>Yeni</th>\n",
       "    </tr>\n",
       "  </thead>\n",
       "  <tbody>\n",
       "    <tr>\n",
       "      <th>Xeyr</th>\n",
       "      <td>1597</td>\n",
       "    </tr>\n",
       "    <tr>\n",
       "      <th>Bəli</th>\n",
       "      <td>153</td>\n",
       "    </tr>\n",
       "  </tbody>\n",
       "</table>\n",
       "</div>"
      ],
      "text/plain": [
       "      Yeni\n",
       "Xeyr  1597\n",
       "Bəli   153"
      ]
     },
     "metadata": {},
     "output_type": "display_data"
    }
   ],
   "source": [
    "for i in categorical:\n",
    "    x = data[i].value_counts().to_frame()\n",
    "    display(x)"
   ]
  },
  {
   "cell_type": "code",
   "execution_count": 47,
   "id": "41cdb0d4",
   "metadata": {},
   "outputs": [],
   "source": [
    "droped = list(data['Ban növü'].value_counts().index[4:])"
   ]
  },
  {
   "cell_type": "code",
   "execution_count": 48,
   "id": "b48e2b8d",
   "metadata": {},
   "outputs": [],
   "source": [
    "for i in droped:\n",
    "    data = data.drop(list(data[data['Ban növü']==i].index))"
   ]
  },
  {
   "cell_type": "code",
   "execution_count": 49,
   "id": "50353545",
   "metadata": {},
   "outputs": [],
   "source": [
    "data = data.drop(list(data[data['Yanacaq növü']=='Elektro'].index))\n",
    "\n",
    "data = data.drop(list(data[data['Yanacaq növü']=='Qaz'].index))\n",
    "\n",
    "data = data.drop(list(data[data['Sürətlər qutusu']=='Variator'].index))\n",
    "\n",
    "data = data.drop(list(data[data['Sürətlər qutusu']=='Robotlaşdırılmış'].index))"
   ]
  },
  {
   "cell_type": "code",
   "execution_count": 50,
   "id": "14565ef4",
   "metadata": {},
   "outputs": [
    {
     "data": {
      "text/html": [
       "<div>\n",
       "<style scoped>\n",
       "    .dataframe tbody tr th:only-of-type {\n",
       "        vertical-align: middle;\n",
       "    }\n",
       "\n",
       "    .dataframe tbody tr th {\n",
       "        vertical-align: top;\n",
       "    }\n",
       "\n",
       "    .dataframe thead th {\n",
       "        text-align: right;\n",
       "    }\n",
       "</style>\n",
       "<table border=\"1\" class=\"dataframe\">\n",
       "  <thead>\n",
       "    <tr style=\"text-align: right;\">\n",
       "      <th></th>\n",
       "      <th>Ban növü</th>\n",
       "    </tr>\n",
       "  </thead>\n",
       "  <tbody>\n",
       "    <tr>\n",
       "      <th>Sedan</th>\n",
       "      <td>848</td>\n",
       "    </tr>\n",
       "    <tr>\n",
       "      <th>Offroader / SUV</th>\n",
       "      <td>465</td>\n",
       "    </tr>\n",
       "    <tr>\n",
       "      <th>Hetçbek / Liftbek</th>\n",
       "      <td>207</td>\n",
       "    </tr>\n",
       "    <tr>\n",
       "      <th>Universal</th>\n",
       "      <td>66</td>\n",
       "    </tr>\n",
       "  </tbody>\n",
       "</table>\n",
       "</div>"
      ],
      "text/plain": [
       "                   Ban növü\n",
       "Sedan                   848\n",
       "Offroader / SUV         465\n",
       "Hetçbek / Liftbek       207\n",
       "Universal                66"
      ]
     },
     "metadata": {},
     "output_type": "display_data"
    },
    {
     "data": {
      "text/html": [
       "<div>\n",
       "<style scoped>\n",
       "    .dataframe tbody tr th:only-of-type {\n",
       "        vertical-align: middle;\n",
       "    }\n",
       "\n",
       "    .dataframe tbody tr th {\n",
       "        vertical-align: top;\n",
       "    }\n",
       "\n",
       "    .dataframe thead th {\n",
       "        text-align: right;\n",
       "    }\n",
       "</style>\n",
       "<table border=\"1\" class=\"dataframe\">\n",
       "  <thead>\n",
       "    <tr style=\"text-align: right;\">\n",
       "      <th></th>\n",
       "      <th>Ötürücü</th>\n",
       "    </tr>\n",
       "  </thead>\n",
       "  <tbody>\n",
       "    <tr>\n",
       "      <th>Ön</th>\n",
       "      <td>796</td>\n",
       "    </tr>\n",
       "    <tr>\n",
       "      <th>Tam</th>\n",
       "      <td>438</td>\n",
       "    </tr>\n",
       "    <tr>\n",
       "      <th>Arxa</th>\n",
       "      <td>352</td>\n",
       "    </tr>\n",
       "  </tbody>\n",
       "</table>\n",
       "</div>"
      ],
      "text/plain": [
       "      Ötürücü\n",
       "Ön        796\n",
       "Tam       438\n",
       "Arxa      352"
      ]
     },
     "metadata": {},
     "output_type": "display_data"
    },
    {
     "data": {
      "text/html": [
       "<div>\n",
       "<style scoped>\n",
       "    .dataframe tbody tr th:only-of-type {\n",
       "        vertical-align: middle;\n",
       "    }\n",
       "\n",
       "    .dataframe tbody tr th {\n",
       "        vertical-align: top;\n",
       "    }\n",
       "\n",
       "    .dataframe thead th {\n",
       "        text-align: right;\n",
       "    }\n",
       "</style>\n",
       "<table border=\"1\" class=\"dataframe\">\n",
       "  <thead>\n",
       "    <tr style=\"text-align: right;\">\n",
       "      <th></th>\n",
       "      <th>Sürətlər qutusu</th>\n",
       "    </tr>\n",
       "  </thead>\n",
       "  <tbody>\n",
       "    <tr>\n",
       "      <th>Avtomat</th>\n",
       "      <td>1286</td>\n",
       "    </tr>\n",
       "    <tr>\n",
       "      <th>Mexaniki</th>\n",
       "      <td>300</td>\n",
       "    </tr>\n",
       "  </tbody>\n",
       "</table>\n",
       "</div>"
      ],
      "text/plain": [
       "          Sürətlər qutusu\n",
       "Avtomat              1286\n",
       "Mexaniki              300"
      ]
     },
     "metadata": {},
     "output_type": "display_data"
    },
    {
     "data": {
      "text/html": [
       "<div>\n",
       "<style scoped>\n",
       "    .dataframe tbody tr th:only-of-type {\n",
       "        vertical-align: middle;\n",
       "    }\n",
       "\n",
       "    .dataframe tbody tr th {\n",
       "        vertical-align: top;\n",
       "    }\n",
       "\n",
       "    .dataframe thead th {\n",
       "        text-align: right;\n",
       "    }\n",
       "</style>\n",
       "<table border=\"1\" class=\"dataframe\">\n",
       "  <thead>\n",
       "    <tr style=\"text-align: right;\">\n",
       "      <th></th>\n",
       "      <th>Yanacaq növü</th>\n",
       "    </tr>\n",
       "  </thead>\n",
       "  <tbody>\n",
       "    <tr>\n",
       "      <th>Benzin</th>\n",
       "      <td>1342</td>\n",
       "    </tr>\n",
       "    <tr>\n",
       "      <th>Dizel</th>\n",
       "      <td>186</td>\n",
       "    </tr>\n",
       "    <tr>\n",
       "      <th>Hibrid</th>\n",
       "      <td>58</td>\n",
       "    </tr>\n",
       "  </tbody>\n",
       "</table>\n",
       "</div>"
      ],
      "text/plain": [
       "        Yanacaq növü\n",
       "Benzin          1342\n",
       "Dizel            186\n",
       "Hibrid            58"
      ]
     },
     "metadata": {},
     "output_type": "display_data"
    },
    {
     "data": {
      "text/html": [
       "<div>\n",
       "<style scoped>\n",
       "    .dataframe tbody tr th:only-of-type {\n",
       "        vertical-align: middle;\n",
       "    }\n",
       "\n",
       "    .dataframe tbody tr th {\n",
       "        vertical-align: top;\n",
       "    }\n",
       "\n",
       "    .dataframe thead th {\n",
       "        text-align: right;\n",
       "    }\n",
       "</style>\n",
       "<table border=\"1\" class=\"dataframe\">\n",
       "  <thead>\n",
       "    <tr style=\"text-align: right;\">\n",
       "      <th></th>\n",
       "      <th>Yeni</th>\n",
       "    </tr>\n",
       "  </thead>\n",
       "  <tbody>\n",
       "    <tr>\n",
       "      <th>Xeyr</th>\n",
       "      <td>1459</td>\n",
       "    </tr>\n",
       "    <tr>\n",
       "      <th>Bəli</th>\n",
       "      <td>127</td>\n",
       "    </tr>\n",
       "  </tbody>\n",
       "</table>\n",
       "</div>"
      ],
      "text/plain": [
       "      Yeni\n",
       "Xeyr  1459\n",
       "Bəli   127"
      ]
     },
     "metadata": {},
     "output_type": "display_data"
    }
   ],
   "source": [
    "for i in categorical:\n",
    "    x = data[i].value_counts().to_frame()\n",
    "    display(x)"
   ]
  },
  {
   "cell_type": "code",
   "execution_count": 51,
   "id": "72efd9e2",
   "metadata": {},
   "outputs": [
    {
     "name": "stdout",
     "output_type": "stream",
     "text": [
      "<class 'pandas.core.frame.DataFrame'>\n",
      "Int64Index: 1586 entries, 0 to 1749\n",
      "Data columns (total 14 columns):\n",
      " #   Column           Non-Null Count  Dtype  \n",
      "---  ------           --------------  -----  \n",
      " 0   Şəhər            1586 non-null   object \n",
      " 1   Marka            1586 non-null   object \n",
      " 2   Model            1586 non-null   object \n",
      " 3   Buraxılış ili    1586 non-null   int64  \n",
      " 4   Ban növü         1586 non-null   object \n",
      " 5   Rəng             1586 non-null   object \n",
      " 6   Mühərrik         1586 non-null   float64\n",
      " 7   Mühərrikin gücü  1586 non-null   float64\n",
      " 8   Yanacaq növü     1586 non-null   object \n",
      " 9   Yürüş            1586 non-null   float64\n",
      " 10  Sürətlər qutusu  1586 non-null   object \n",
      " 11  Ötürücü          1586 non-null   object \n",
      " 12  Yeni             1586 non-null   object \n",
      " 13  Price            1586 non-null   float64\n",
      "dtypes: float64(4), int64(1), object(9)\n",
      "memory usage: 130.1+ KB\n"
     ]
    }
   ],
   "source": [
    "data.info()"
   ]
  },
  {
   "cell_type": "code",
   "execution_count": 52,
   "id": "40761aeb",
   "metadata": {},
   "outputs": [
    {
     "data": {
      "text/html": [
       "<div>\n",
       "<style scoped>\n",
       "    .dataframe tbody tr th:only-of-type {\n",
       "        vertical-align: middle;\n",
       "    }\n",
       "\n",
       "    .dataframe tbody tr th {\n",
       "        vertical-align: top;\n",
       "    }\n",
       "\n",
       "    .dataframe thead th {\n",
       "        text-align: right;\n",
       "    }\n",
       "</style>\n",
       "<table border=\"1\" class=\"dataframe\">\n",
       "  <thead>\n",
       "    <tr style=\"text-align: right;\">\n",
       "      <th></th>\n",
       "      <th>Buraxılış ili</th>\n",
       "      <th>Mühərrik</th>\n",
       "      <th>Mühərrikin gücü</th>\n",
       "      <th>Yürüş</th>\n",
       "      <th>Price</th>\n",
       "    </tr>\n",
       "  </thead>\n",
       "  <tbody>\n",
       "    <tr>\n",
       "      <th>count</th>\n",
       "      <td>1586.0</td>\n",
       "      <td>1586.0</td>\n",
       "      <td>1586.0</td>\n",
       "      <td>1586.0</td>\n",
       "      <td>1586.0</td>\n",
       "    </tr>\n",
       "    <tr>\n",
       "      <th>mean</th>\n",
       "      <td>2011.0</td>\n",
       "      <td>2.0</td>\n",
       "      <td>190.0</td>\n",
       "      <td>146882.0</td>\n",
       "      <td>37553.0</td>\n",
       "    </tr>\n",
       "    <tr>\n",
       "      <th>std</th>\n",
       "      <td>7.0</td>\n",
       "      <td>1.0</td>\n",
       "      <td>100.0</td>\n",
       "      <td>119610.0</td>\n",
       "      <td>47031.0</td>\n",
       "    </tr>\n",
       "    <tr>\n",
       "      <th>min</th>\n",
       "      <td>1971.0</td>\n",
       "      <td>1.0</td>\n",
       "      <td>50.0</td>\n",
       "      <td>0.0</td>\n",
       "      <td>1600.0</td>\n",
       "    </tr>\n",
       "    <tr>\n",
       "      <th>25%</th>\n",
       "      <td>2007.0</td>\n",
       "      <td>2.0</td>\n",
       "      <td>117.0</td>\n",
       "      <td>71936.0</td>\n",
       "      <td>13125.0</td>\n",
       "    </tr>\n",
       "    <tr>\n",
       "      <th>50%</th>\n",
       "      <td>2012.0</td>\n",
       "      <td>2.0</td>\n",
       "      <td>167.0</td>\n",
       "      <td>136000.0</td>\n",
       "      <td>19900.0</td>\n",
       "    </tr>\n",
       "    <tr>\n",
       "      <th>75%</th>\n",
       "      <td>2015.0</td>\n",
       "      <td>2.0</td>\n",
       "      <td>245.0</td>\n",
       "      <td>200000.0</td>\n",
       "      <td>41990.0</td>\n",
       "    </tr>\n",
       "    <tr>\n",
       "      <th>max</th>\n",
       "      <td>2021.0</td>\n",
       "      <td>6.0</td>\n",
       "      <td>610.0</td>\n",
       "      <td>2400000.0</td>\n",
       "      <td>501500.0</td>\n",
       "    </tr>\n",
       "  </tbody>\n",
       "</table>\n",
       "</div>"
      ],
      "text/plain": [
       "       Buraxılış ili  Mühərrik  Mühərrikin gücü      Yürüş     Price\n",
       "count         1586.0    1586.0           1586.0     1586.0    1586.0\n",
       "mean          2011.0       2.0            190.0   146882.0   37553.0\n",
       "std              7.0       1.0            100.0   119610.0   47031.0\n",
       "min           1971.0       1.0             50.0        0.0    1600.0\n",
       "25%           2007.0       2.0            117.0    71936.0   13125.0\n",
       "50%           2012.0       2.0            167.0   136000.0   19900.0\n",
       "75%           2015.0       2.0            245.0   200000.0   41990.0\n",
       "max           2021.0       6.0            610.0  2400000.0  501500.0"
      ]
     },
     "execution_count": 52,
     "metadata": {},
     "output_type": "execute_result"
    }
   ],
   "source": [
    "data.describe().round()"
   ]
  },
  {
   "cell_type": "code",
   "execution_count": 53,
   "id": "7268ba95",
   "metadata": {},
   "outputs": [
    {
     "data": {
      "image/png": "[encoded data removed]",
      "text/plain": [
       "<Figure size 432x288 with 1 Axes>"
      ]
     },
     "metadata": {
      "needs_background": "light"
     },
     "output_type": "display_data"
    },
    {
     "data": {
      "image/png": "[encoded data removed]",
      "text/plain": [
       "<Figure size 432x288 with 1 Axes>"
      ]
     },
     "metadata": {
      "needs_background": "light"
     },
     "output_type": "display_data"
    },
    {
     "data": {
      "image/png": "[encoded data removed]",
      "text/plain": [
       "<Figure size 432x288 with 1 Axes>"
      ]
     },
     "metadata": {
      "needs_background": "light"
     },
     "output_type": "display_data"
    },
    {
     "data": {
      "image/png": "[encoded data removed]",
      "text/plain": [
       "<Figure size 432x288 with 1 Axes>"
      ]
     },
     "metadata": {
      "needs_background": "light"
     },
     "output_type": "display_data"
    }
   ],
   "source": [
    "for i in numerical:\n",
    "    plt.hist(data[i])\n",
    "    plt.title(f'Histogram of {i}')\n",
    "    plt.show()"
   ]
  },
  {
   "cell_type": "code",
   "execution_count": 54,
   "id": "2f32beb6",
   "metadata": {},
   "outputs": [
    {
     "data": {
      "image/png": "[encoded data removed]",
      "text/plain": [
       "<Figure size 432x288 with 1 Axes>"
      ]
     },
     "metadata": {
      "needs_background": "light"
     },
     "output_type": "display_data"
    }
   ],
   "source": [
    "#Price : Target Variable\n",
    "sns.distplot(data['Price'])\n",
    "plt.show()"
   ]
  },
  {
   "cell_type": "code",
   "execution_count": 55,
   "id": "965c5b38",
   "metadata": {},
   "outputs": [],
   "source": [
    "# Inference\n",
    "# Mean and median of price are significantly different.\n",
    "# Large standard deviation indicates that there is considerable variance in the prices of the automobiles.\n",
    "# Price values are right-skewed, most cars are priced at the lower end (9000) of the price range."
   ]
  },
  {
   "cell_type": "code",
   "execution_count": 56,
   "id": "822bddc7",
   "metadata": {},
   "outputs": [
    {
     "data": {
      "text/html": [
       "<div>\n",
       "<style scoped>\n",
       "    .dataframe tbody tr th:only-of-type {\n",
       "        vertical-align: middle;\n",
       "    }\n",
       "\n",
       "    .dataframe tbody tr th {\n",
       "        vertical-align: top;\n",
       "    }\n",
       "\n",
       "    .dataframe thead th {\n",
       "        text-align: right;\n",
       "    }\n",
       "</style>\n",
       "<table border=\"1\" class=\"dataframe\">\n",
       "  <thead>\n",
       "    <tr style=\"text-align: right;\">\n",
       "      <th></th>\n",
       "      <th>Buraxılış ili</th>\n",
       "      <th>Mühərrik</th>\n",
       "      <th>Mühərrikin gücü</th>\n",
       "      <th>Yürüş</th>\n",
       "      <th>Price</th>\n",
       "    </tr>\n",
       "  </thead>\n",
       "  <tbody>\n",
       "    <tr>\n",
       "      <th>Buraxılış ili</th>\n",
       "      <td>1.000000</td>\n",
       "      <td>0.065939</td>\n",
       "      <td>0.322686</td>\n",
       "      <td>-0.585521</td>\n",
       "      <td>0.477297</td>\n",
       "    </tr>\n",
       "    <tr>\n",
       "      <th>Mühərrik</th>\n",
       "      <td>0.065939</td>\n",
       "      <td>1.000000</td>\n",
       "      <td>0.836189</td>\n",
       "      <td>-0.062203</td>\n",
       "      <td>0.499409</td>\n",
       "    </tr>\n",
       "    <tr>\n",
       "      <th>Mühərrikin gücü</th>\n",
       "      <td>0.322686</td>\n",
       "      <td>0.836189</td>\n",
       "      <td>1.000000</td>\n",
       "      <td>-0.229733</td>\n",
       "      <td>0.683250</td>\n",
       "    </tr>\n",
       "    <tr>\n",
       "      <th>Yürüş</th>\n",
       "      <td>-0.585521</td>\n",
       "      <td>-0.062203</td>\n",
       "      <td>-0.229733</td>\n",
       "      <td>1.000000</td>\n",
       "      <td>-0.391659</td>\n",
       "    </tr>\n",
       "    <tr>\n",
       "      <th>Price</th>\n",
       "      <td>0.477297</td>\n",
       "      <td>0.499409</td>\n",
       "      <td>0.683250</td>\n",
       "      <td>-0.391659</td>\n",
       "      <td>1.000000</td>\n",
       "    </tr>\n",
       "  </tbody>\n",
       "</table>\n",
       "</div>"
      ],
      "text/plain": [
       "                 Buraxılış ili  Mühərrik  Mühərrikin gücü     Yürüş     Price\n",
       "Buraxılış ili         1.000000  0.065939         0.322686 -0.585521  0.477297\n",
       "Mühərrik              0.065939  1.000000         0.836189 -0.062203  0.499409\n",
       "Mühərrikin gücü       0.322686  0.836189         1.000000 -0.229733  0.683250\n",
       "Yürüş                -0.585521 -0.062203        -0.229733  1.000000 -0.391659\n",
       "Price                 0.477297  0.499409         0.683250 -0.391659  1.000000"
      ]
     },
     "execution_count": 56,
     "metadata": {},
     "output_type": "execute_result"
    }
   ],
   "source": [
    "data.corr()"
   ]
  },
  {
   "cell_type": "code",
   "execution_count": 57,
   "id": "ea269a88",
   "metadata": {},
   "outputs": [],
   "source": [
    "#Asserting linearity assumption"
   ]
  },
  {
   "cell_type": "code",
   "execution_count": 58,
   "id": "06d6ae2c",
   "metadata": {},
   "outputs": [
    {
     "data": {
      "image/png": "[encoded data removed]",
      "text/plain": [
       "<Figure size 432x288 with 2 Axes>"
      ]
     },
     "metadata": {
      "needs_background": "light"
     },
     "output_type": "display_data"
    }
   ],
   "source": [
    "sns.heatmap(data.corr(),annot=True)\n",
    "plt.show()"
   ]
  },
  {
   "cell_type": "code",
   "execution_count": 59,
   "id": "03fc1c7b",
   "metadata": {},
   "outputs": [],
   "source": [
    "#Independent variables have a linear relationship with the predictor variable."
   ]
  },
  {
   "cell_type": "code",
   "execution_count": 60,
   "id": "0f55dd04",
   "metadata": {},
   "outputs": [],
   "source": [
    "#Marka"
   ]
  },
  {
   "cell_type": "code",
   "execution_count": 61,
   "id": "d49ccabe",
   "metadata": {},
   "outputs": [
    {
     "data": {
      "text/plain": [
       "array(['Lexus', 'Hyundai', 'LADA (VAZ)', 'BMW', 'Land Rover', 'Nissan',\n",
       "       'Iran Khodro', 'Mercedes', 'Toyota', 'Chevrolet', 'Volkswagen',\n",
       "       'Opel', 'Kia', 'Volvo', 'Jeep', 'Ravon', 'Khazar', 'GAC', 'Honda',\n",
       "       'Ford', 'Tofas', 'Mazda', 'Subaru', 'Audi', 'Ssang Yong', 'Suzuki',\n",
       "       'Porsche', 'Renault', 'Mitsubishi', 'Infiniti', 'Mercedes-Maybach',\n",
       "       'Hummer', 'MG', 'Daewoo', 'Aston Martin', 'Jaguar', 'Mini', 'Baic',\n",
       "       'UAZ', 'Haval', 'Skoda', 'Geely', 'GAZ', 'Maserati', 'Peugeot',\n",
       "       'SEAT', 'FAW', 'Chery', 'Changan', 'Fiat', 'Chrysler', 'Cadillac',\n",
       "       'Saipa'], dtype=object)"
      ]
     },
     "execution_count": 61,
     "metadata": {},
     "output_type": "execute_result"
    }
   ],
   "source": [
    "data['Marka'].unique()"
   ]
  },
  {
   "cell_type": "code",
   "execution_count": 62,
   "id": "5268f737",
   "metadata": {},
   "outputs": [],
   "source": [
    "data['Marka'] = data['Marka'].replace('Mercedes-Maybach', 'Mercedes')"
   ]
  },
  {
   "cell_type": "code",
   "execution_count": 63,
   "id": "0a0ef008",
   "metadata": {},
   "outputs": [
    {
     "data": {
      "image/png": "[encoded data removed]",
      "text/plain": [
       "<Figure size 1080x360 with 1 Axes>"
      ]
     },
     "metadata": {
      "needs_background": "light"
     },
     "output_type": "display_data"
    },
    {
     "data": {
      "text/plain": [
       "<Figure size 432x288 with 0 Axes>"
      ]
     },
     "metadata": {},
     "output_type": "display_data"
    }
   ],
   "source": [
    "fig, ax = plt.subplots(figsize = (15,5))\n",
    "plt1 = sns.countplot(data['Marka'], order=pd.value_counts(data['Marka']).index,)\n",
    "plt1.set(xlabel = 'Brand', ylabel= 'Count of Cars')\n",
    "plt.xticks(rotation = 90)\n",
    "plt.show()\n",
    "plt.tight_layout()"
   ]
  },
  {
   "cell_type": "code",
   "execution_count": 64,
   "id": "04db78cd",
   "metadata": {},
   "outputs": [
    {
     "data": {
      "text/plain": [
       "count         1586\n",
       "unique          52\n",
       "top       Mercedes\n",
       "freq           251\n",
       "Name: Marka, dtype: object"
      ]
     },
     "execution_count": 64,
     "metadata": {},
     "output_type": "execute_result"
    }
   ],
   "source": [
    "data.Marka.describe()"
   ]
  },
  {
   "cell_type": "code",
   "execution_count": 65,
   "id": "40e16efa",
   "metadata": {},
   "outputs": [],
   "source": [
    "# Inference\n",
    "#Mercedes has the most no of models."
   ]
  },
  {
   "cell_type": "code",
   "execution_count": 66,
   "id": "11d5de24",
   "metadata": {},
   "outputs": [],
   "source": [
    "# Let's see average car price of each company."
   ]
  },
  {
   "cell_type": "code",
   "execution_count": 67,
   "id": "5bf3b2fc",
   "metadata": {},
   "outputs": [
    {
     "data": {
      "image/png": "[encoded data removed]",
      "text/plain": [
       "<Figure size 1080x216 with 1 Axes>"
      ]
     },
     "metadata": {
      "needs_background": "light"
     },
     "output_type": "display_data"
    }
   ],
   "source": [
    "df_comp_avg_price = data[['Marka','Price']].groupby(\"Marka\", as_index = False).mean().rename(columns={'Price':'brand_avg_price'})\n",
    "plt1 = df_comp_avg_price.plot(x = 'Marka', kind='bar',legend = False, sort_columns = True, figsize = (15,3))\n",
    "plt1.set_xlabel(\"Brand\")\n",
    "plt1.set_ylabel(\"Avg Price (Manats)\")\n",
    "plt.xticks(rotation = 90)\n",
    "plt.show()"
   ]
  },
  {
   "cell_type": "code",
   "execution_count": 68,
   "id": "666015de",
   "metadata": {},
   "outputs": [],
   "source": [
    "#df_comp_avg_price"
   ]
  },
  {
   "cell_type": "code",
   "execution_count": 69,
   "id": "e4564f71",
   "metadata": {},
   "outputs": [],
   "source": [
    "data = data.merge(df_comp_avg_price, on = 'Marka')"
   ]
  },
  {
   "cell_type": "code",
   "execution_count": 70,
   "id": "f627e29c",
   "metadata": {},
   "outputs": [],
   "source": [
    "data['brand_category'] = data['brand_avg_price'].apply(lambda x : \"Budget\" if x < 30000 \n",
    "                                                       else (\"Mid_Range\" if 30000 <= x < 100000\n",
    "                                                             else \"Luxury\"))"
   ]
  },
  {
   "cell_type": "code",
   "execution_count": 71,
   "id": "ad18a558",
   "metadata": {},
   "outputs": [
    {
     "data": {
      "text/html": [
       "<div>\n",
       "<style scoped>\n",
       "    .dataframe tbody tr th:only-of-type {\n",
       "        vertical-align: middle;\n",
       "    }\n",
       "\n",
       "    .dataframe tbody tr th {\n",
       "        vertical-align: top;\n",
       "    }\n",
       "\n",
       "    .dataframe thead th {\n",
       "        text-align: right;\n",
       "    }\n",
       "</style>\n",
       "<table border=\"1\" class=\"dataframe\">\n",
       "  <thead>\n",
       "    <tr style=\"text-align: right;\">\n",
       "      <th></th>\n",
       "      <th>brand_category Count</th>\n",
       "    </tr>\n",
       "  </thead>\n",
       "  <tbody>\n",
       "    <tr>\n",
       "      <th>Budget</th>\n",
       "      <td>785</td>\n",
       "    </tr>\n",
       "    <tr>\n",
       "      <th>Mid_Range</th>\n",
       "      <td>737</td>\n",
       "    </tr>\n",
       "    <tr>\n",
       "      <th>Luxury</th>\n",
       "      <td>64</td>\n",
       "    </tr>\n",
       "  </tbody>\n",
       "</table>\n",
       "</div>"
      ],
      "text/plain": [
       "           brand_category Count\n",
       "Budget                      785\n",
       "Mid_Range                   737\n",
       "Luxury                       64"
      ]
     },
     "execution_count": 71,
     "metadata": {},
     "output_type": "execute_result"
    }
   ],
   "source": [
    "data['brand_category'].value_counts().to_frame(name='brand_category Count')"
   ]
  },
  {
   "cell_type": "code",
   "execution_count": 72,
   "id": "e4bcf89c",
   "metadata": {},
   "outputs": [],
   "source": [
    "# Inference:\n",
    "# Brands can be categorised as Luxury, Mid Ranged, Budget based on their average price."
   ]
  },
  {
   "cell_type": "code",
   "execution_count": 73,
   "id": "fbc47a7b",
   "metadata": {},
   "outputs": [],
   "source": [
    "#Fuel Type"
   ]
  },
  {
   "cell_type": "code",
   "execution_count": 74,
   "id": "38280334",
   "metadata": {},
   "outputs": [],
   "source": [
    "# Let's see how price varies with  Fuel Type"
   ]
  },
  {
   "cell_type": "code",
   "execution_count": 75,
   "id": "26905ef0",
   "metadata": {},
   "outputs": [
    {
     "data": {
      "image/png": "[encoded data removed]",
      "text/plain": [
       "<Figure size 432x288 with 1 Axes>"
      ]
     },
     "metadata": {
      "needs_background": "light"
     },
     "output_type": "display_data"
    }
   ],
   "source": [
    "df_fuel_avg_price = data[['Yanacaq növü','Price']].groupby(\"Yanacaq növü\", as_index = False).mean().rename(columns={'Price':'fuel_avg_price'})\n",
    "plt1 = df_fuel_avg_price.plot(x = 'Yanacaq növü', kind='bar',legend = False, sort_columns = True)\n",
    "plt1.set_xlabel(\"Fuel Type\")\n",
    "plt1.set_ylabel(\"Avg Price (Manats)\")\n",
    "plt.xticks(rotation = 0)\n",
    "plt.show()"
   ]
  },
  {
   "cell_type": "code",
   "execution_count": 76,
   "id": "c322eb29",
   "metadata": {},
   "outputs": [
    {
     "data": {
      "text/html": [
       "<div>\n",
       "<style scoped>\n",
       "    .dataframe tbody tr th:only-of-type {\n",
       "        vertical-align: middle;\n",
       "    }\n",
       "\n",
       "    .dataframe tbody tr th {\n",
       "        vertical-align: top;\n",
       "    }\n",
       "\n",
       "    .dataframe thead th {\n",
       "        text-align: right;\n",
       "    }\n",
       "</style>\n",
       "<table border=\"1\" class=\"dataframe\">\n",
       "  <thead>\n",
       "    <tr style=\"text-align: right;\">\n",
       "      <th></th>\n",
       "      <th>Yanacaq növü</th>\n",
       "      <th>fuel_avg_price</th>\n",
       "    </tr>\n",
       "  </thead>\n",
       "  <tbody>\n",
       "    <tr>\n",
       "      <th>0</th>\n",
       "      <td>Benzin</td>\n",
       "      <td>38269.966095</td>\n",
       "    </tr>\n",
       "    <tr>\n",
       "      <th>2</th>\n",
       "      <td>Hibrid</td>\n",
       "      <td>34283.739655</td>\n",
       "    </tr>\n",
       "    <tr>\n",
       "      <th>1</th>\n",
       "      <td>Dizel</td>\n",
       "      <td>33398.333333</td>\n",
       "    </tr>\n",
       "  </tbody>\n",
       "</table>\n",
       "</div>"
      ],
      "text/plain": [
       "  Yanacaq növü  fuel_avg_price\n",
       "0       Benzin    38269.966095\n",
       "2       Hibrid    34283.739655\n",
       "1        Dizel    33398.333333"
      ]
     },
     "execution_count": 76,
     "metadata": {},
     "output_type": "execute_result"
    }
   ],
   "source": [
    "df_fuel_avg_price.sort_values('fuel_avg_price', ascending=False)"
   ]
  },
  {
   "cell_type": "code",
   "execution_count": 77,
   "id": "11b23811",
   "metadata": {},
   "outputs": [],
   "source": [
    "df_fuel_max_price = data[['Yanacaq növü','Price']].groupby(\"Yanacaq növü\", as_index = False).max().rename(columns={'Price':'fuel_max_price'})"
   ]
  },
  {
   "cell_type": "code",
   "execution_count": 78,
   "id": "9e8336b5",
   "metadata": {},
   "outputs": [
    {
     "data": {
      "text/html": [
       "<div>\n",
       "<style scoped>\n",
       "    .dataframe tbody tr th:only-of-type {\n",
       "        vertical-align: middle;\n",
       "    }\n",
       "\n",
       "    .dataframe tbody tr th {\n",
       "        vertical-align: top;\n",
       "    }\n",
       "\n",
       "    .dataframe thead th {\n",
       "        text-align: right;\n",
       "    }\n",
       "</style>\n",
       "<table border=\"1\" class=\"dataframe\">\n",
       "  <thead>\n",
       "    <tr style=\"text-align: right;\">\n",
       "      <th></th>\n",
       "      <th>Yanacaq növü</th>\n",
       "      <th>fuel_max_price</th>\n",
       "    </tr>\n",
       "  </thead>\n",
       "  <tbody>\n",
       "    <tr>\n",
       "      <th>0</th>\n",
       "      <td>Benzin</td>\n",
       "      <td>501500.0</td>\n",
       "    </tr>\n",
       "    <tr>\n",
       "      <th>1</th>\n",
       "      <td>Dizel</td>\n",
       "      <td>249560.0</td>\n",
       "    </tr>\n",
       "    <tr>\n",
       "      <th>2</th>\n",
       "      <td>Hibrid</td>\n",
       "      <td>190400.0</td>\n",
       "    </tr>\n",
       "  </tbody>\n",
       "</table>\n",
       "</div>"
      ],
      "text/plain": [
       "  Yanacaq növü  fuel_max_price\n",
       "0       Benzin        501500.0\n",
       "1        Dizel        249560.0\n",
       "2       Hibrid        190400.0"
      ]
     },
     "execution_count": 78,
     "metadata": {},
     "output_type": "execute_result"
    }
   ],
   "source": [
    "df_fuel_max_price.sort_values('fuel_max_price', ascending=False)"
   ]
  },
  {
   "cell_type": "code",
   "execution_count": 79,
   "id": "efe070af",
   "metadata": {},
   "outputs": [],
   "source": [
    "#Aspiration"
   ]
  },
  {
   "cell_type": "code",
   "execution_count": 80,
   "id": "68053f4c",
   "metadata": {},
   "outputs": [
    {
     "data": {
      "image/png": "[encoded data removed]",
      "text/plain": [
       "<Figure size 432x288 with 1 Axes>"
      ]
     },
     "metadata": {
      "needs_background": "light"
     },
     "output_type": "display_data"
    }
   ],
   "source": [
    "df_aspir_avg_price = data[['Sürətlər qutusu','Price']].groupby(\"Sürətlər qutusu\", as_index = False).mean().rename(columns={'Price':'aspir_avg_price'})\n",
    "plt1 = df_aspir_avg_price.plot(x = 'Sürətlər qutusu', kind='bar',legend = False, sort_columns = True)\n",
    "plt1.set_xlabel(\"Aspiration\")\n",
    "plt1.set_ylabel(\"Avg Price (Manats)\")\n",
    "plt.xticks(rotation = 0)\n",
    "plt.show()"
   ]
  },
  {
   "cell_type": "code",
   "execution_count": 81,
   "id": "150b62d4",
   "metadata": {},
   "outputs": [
    {
     "data": {
      "text/plain": [
       "count        1586\n",
       "unique          2\n",
       "top       Avtomat\n",
       "freq         1286\n",
       "Name: Sürətlər qutusu, dtype: object"
      ]
     },
     "execution_count": 81,
     "metadata": {},
     "output_type": "execute_result"
    }
   ],
   "source": [
    "data['Sürətlər qutusu'].describe()"
   ]
  },
  {
   "cell_type": "code",
   "execution_count": 82,
   "id": "9d6e8e43",
   "metadata": {},
   "outputs": [],
   "source": [
    "#Car Body"
   ]
  },
  {
   "cell_type": "code",
   "execution_count": 83,
   "id": "604d1d34",
   "metadata": {
    "scrolled": true
   },
   "outputs": [
    {
     "data": {
      "image/png": "[encoded data removed]",
      "text/plain": [
       "<Figure size 432x288 with 1 Axes>"
      ]
     },
     "metadata": {
      "needs_background": "light"
     },
     "output_type": "display_data"
    }
   ],
   "source": [
    "df_body_avg_price = data[['Ban növü','Price']].groupby(\"Ban növü\", as_index = False).mean().rename(columns={'Price':'carbody_avg_price'})\n",
    "plt1 = df_body_avg_price.plot(x = 'Ban növü', kind='bar',legend = False, sort_columns = True)\n",
    "plt1.set_xlabel(\"Car Body\")\n",
    "plt1.set_ylabel(\"Avg Price (Manats)\")\n",
    "plt.xticks(rotation = 90)\n",
    "plt.show() "
   ]
  },
  {
   "cell_type": "code",
   "execution_count": 84,
   "id": "8b780398",
   "metadata": {},
   "outputs": [
    {
     "data": {
      "text/plain": [
       "count      1586\n",
       "unique        4\n",
       "top       Sedan\n",
       "freq        848\n",
       "Name: Ban növü, dtype: object"
      ]
     },
     "execution_count": 84,
     "metadata": {},
     "output_type": "execute_result"
    }
   ],
   "source": [
    "data['Ban növü'].describe()"
   ]
  },
  {
   "cell_type": "code",
   "execution_count": 85,
   "id": "a72f7ff7",
   "metadata": {},
   "outputs": [
    {
     "data": {
      "text/html": [
       "<div>\n",
       "<style scoped>\n",
       "    .dataframe tbody tr th:only-of-type {\n",
       "        vertical-align: middle;\n",
       "    }\n",
       "\n",
       "    .dataframe tbody tr th {\n",
       "        vertical-align: top;\n",
       "    }\n",
       "\n",
       "    .dataframe thead th {\n",
       "        text-align: right;\n",
       "    }\n",
       "</style>\n",
       "<table border=\"1\" class=\"dataframe\">\n",
       "  <thead>\n",
       "    <tr style=\"text-align: right;\">\n",
       "      <th></th>\n",
       "      <th>Ban növü</th>\n",
       "      <th>carbody_avg_price</th>\n",
       "    </tr>\n",
       "  </thead>\n",
       "  <tbody>\n",
       "    <tr>\n",
       "      <th>1</th>\n",
       "      <td>Offroader / SUV</td>\n",
       "      <td>70760.494624</td>\n",
       "    </tr>\n",
       "    <tr>\n",
       "      <th>2</th>\n",
       "      <td>Sedan</td>\n",
       "      <td>26527.817807</td>\n",
       "    </tr>\n",
       "    <tr>\n",
       "      <th>0</th>\n",
       "      <td>Hetçbek / Liftbek</td>\n",
       "      <td>16113.873913</td>\n",
       "    </tr>\n",
       "    <tr>\n",
       "      <th>3</th>\n",
       "      <td>Universal</td>\n",
       "      <td>12485.606061</td>\n",
       "    </tr>\n",
       "  </tbody>\n",
       "</table>\n",
       "</div>"
      ],
      "text/plain": [
       "            Ban növü  carbody_avg_price\n",
       "1    Offroader / SUV       70760.494624\n",
       "2              Sedan       26527.817807\n",
       "0  Hetçbek / Liftbek       16113.873913\n",
       "3          Universal       12485.606061"
      ]
     },
     "execution_count": 85,
     "metadata": {},
     "output_type": "execute_result"
    }
   ],
   "source": [
    "df_body_avg_price.sort_values('carbody_avg_price', ascending=False)"
   ]
  },
  {
   "cell_type": "code",
   "execution_count": 86,
   "id": "2f3bc977",
   "metadata": {},
   "outputs": [
    {
     "data": {
      "text/html": [
       "<div>\n",
       "<style scoped>\n",
       "    .dataframe tbody tr th:only-of-type {\n",
       "        vertical-align: middle;\n",
       "    }\n",
       "\n",
       "    .dataframe tbody tr th {\n",
       "        vertical-align: top;\n",
       "    }\n",
       "\n",
       "    .dataframe thead th {\n",
       "        text-align: right;\n",
       "    }\n",
       "</style>\n",
       "<table border=\"1\" class=\"dataframe\">\n",
       "  <thead>\n",
       "    <tr style=\"text-align: right;\">\n",
       "      <th></th>\n",
       "      <th>Ban növü</th>\n",
       "      <th>carbody_max_price</th>\n",
       "    </tr>\n",
       "  </thead>\n",
       "  <tbody>\n",
       "    <tr>\n",
       "      <th>2</th>\n",
       "      <td>Sedan</td>\n",
       "      <td>501500.0</td>\n",
       "    </tr>\n",
       "    <tr>\n",
       "      <th>1</th>\n",
       "      <td>Offroader / SUV</td>\n",
       "      <td>464950.0</td>\n",
       "    </tr>\n",
       "    <tr>\n",
       "      <th>0</th>\n",
       "      <td>Hetçbek / Liftbek</td>\n",
       "      <td>166600.0</td>\n",
       "    </tr>\n",
       "    <tr>\n",
       "      <th>3</th>\n",
       "      <td>Universal</td>\n",
       "      <td>46750.0</td>\n",
       "    </tr>\n",
       "  </tbody>\n",
       "</table>\n",
       "</div>"
      ],
      "text/plain": [
       "            Ban növü  carbody_max_price\n",
       "2              Sedan           501500.0\n",
       "1    Offroader / SUV           464950.0\n",
       "0  Hetçbek / Liftbek           166600.0\n",
       "3          Universal            46750.0"
      ]
     },
     "execution_count": 86,
     "metadata": {},
     "output_type": "execute_result"
    }
   ],
   "source": [
    "df_body_max_price = data[['Ban növü','Price']].groupby(\"Ban növü\", as_index = False).max().rename(columns={'Price':'carbody_max_price'})\n",
    "df_body_max_price.sort_values('carbody_max_price', ascending=False)"
   ]
  },
  {
   "cell_type": "code",
   "execution_count": 87,
   "id": "07f2fde2",
   "metadata": {},
   "outputs": [],
   "source": [
    "#Transmitter"
   ]
  },
  {
   "cell_type": "code",
   "execution_count": 88,
   "id": "e39fbf9f",
   "metadata": {},
   "outputs": [
    {
     "data": {
      "image/png": "[encoded data removed]",
      "text/plain": [
       "<Figure size 432x288 with 1 Axes>"
      ]
     },
     "metadata": {
      "needs_background": "light"
     },
     "output_type": "display_data"
    }
   ],
   "source": [
    "df_transmitter_avg_price = data[['Ötürücü','Price']].groupby(\"Ötürücü\", as_index = False).mean().rename(columns={'Price':'transmitter_avg_price'})\n",
    "plt1 = df_transmitter_avg_price.plot(x = 'Ötürücü', kind='bar', sort_columns = True,legend = False,)\n",
    "plt1.set_xlabel(\"Transmitter\")\n",
    "plt1.set_ylabel(\"Avg Price (Manats)\")\n",
    "plt.xticks(rotation = 0)\n",
    "plt.show()"
   ]
  },
  {
   "cell_type": "code",
   "execution_count": 89,
   "id": "6cee83d2",
   "metadata": {},
   "outputs": [],
   "source": [
    "#Engine power"
   ]
  },
  {
   "cell_type": "code",
   "execution_count": 90,
   "id": "6d5554bc",
   "metadata": {},
   "outputs": [
    {
     "data": {
      "image/png": "[encoded data removed]",
      "text/plain": [
       "<Figure size 432x288 with 1 Axes>"
      ]
     },
     "metadata": {
      "needs_background": "light"
     },
     "output_type": "display_data"
    }
   ],
   "source": [
    "plt1 = sns.scatterplot(x = 'Mühərrikin gücü', y = 'Price', data = data)\n",
    "plt1.set_xlabel('Engine power')\n",
    "plt1.set_ylabel('Price of Car (Manats)')\n",
    "plt.show()"
   ]
  },
  {
   "cell_type": "code",
   "execution_count": 91,
   "id": "b62676df",
   "metadata": {},
   "outputs": [],
   "source": [
    "# Most cars have engine power between 100 and 300.\n",
    "# Price has a slight positive correlation with engine power."
   ]
  },
  {
   "cell_type": "code",
   "execution_count": 92,
   "id": "de4a6346",
   "metadata": {},
   "outputs": [],
   "source": [
    "#Engine"
   ]
  },
  {
   "cell_type": "code",
   "execution_count": 93,
   "id": "01524025",
   "metadata": {},
   "outputs": [
    {
     "data": {
      "image/png": "[encoded data removed]",
      "text/plain": [
       "<Figure size 432x288 with 1 Axes>"
      ]
     },
     "metadata": {
      "needs_background": "light"
     },
     "output_type": "display_data"
    }
   ],
   "source": [
    "plt1 = sns.scatterplot(x = 'Mühərrik', y = 'Price', data = data)\n",
    "plt1.set_xlabel('Number of Engine')\n",
    "plt1.set_ylabel('Price of Car (Manats)')\n",
    "plt.show()"
   ]
  },
  {
   "cell_type": "code",
   "execution_count": 94,
   "id": "e306e71b",
   "metadata": {},
   "outputs": [
    {
     "data": {
      "image/png": "[encoded data removed]",
      "text/plain": [
       "<Figure size 432x288 with 1 Axes>"
      ]
     },
     "metadata": {
      "needs_background": "light"
     },
     "output_type": "display_data"
    }
   ],
   "source": [
    "plt1 = sns.scatterplot(x = 'Mühərrik', y = 'Price', hue = 'brand_category', data = data)\n",
    "plt1.set_xlabel('Engine')\n",
    "plt1.set_ylabel('Price of Car (Manats)')\n",
    "plt.show()"
   ]
  },
  {
   "cell_type": "code",
   "execution_count": 95,
   "id": "b897257c",
   "metadata": {},
   "outputs": [],
   "source": [
    "#Cars with luxary category have more engine in general."
   ]
  },
  {
   "cell_type": "code",
   "execution_count": 96,
   "id": "2c6dfe96",
   "metadata": {},
   "outputs": [],
   "source": [
    "# Let's see how price varies with kilometers."
   ]
  },
  {
   "cell_type": "code",
   "execution_count": 97,
   "id": "739ef34f",
   "metadata": {},
   "outputs": [
    {
     "data": {
      "image/png": "[encoded data removed]",
      "text/plain": [
       "<Figure size 432x288 with 1 Axes>"
      ]
     },
     "metadata": {
      "needs_background": "light"
     },
     "output_type": "display_data"
    }
   ],
   "source": [
    "plt1 = sns.scatterplot(x = 'Yürüş', y = 'Price', data = data)\n",
    "plt1.set_xlabel('Kilometers')\n",
    "plt1.set_ylabel('Price of Car (Manats)')\n",
    "plt.show()"
   ]
  },
  {
   "cell_type": "code",
   "execution_count": 98,
   "id": "d3ec81d6",
   "metadata": {},
   "outputs": [
    {
     "data": {
      "image/png": "[encoded data removed]",
      "text/plain": [
       "<Figure size 432x288 with 1 Axes>"
      ]
     },
     "metadata": {
      "needs_background": "light"
     },
     "output_type": "display_data"
    }
   ],
   "source": [
    "plt1 = sns.scatterplot(x = 'Yürüş', y = 'Price', hue = 'brand_category', data = data)\n",
    "plt1.set_xlabel('Kilometrs')\n",
    "plt1.set_ylabel('Price of Car (Manats)')\n",
    "plt.show()"
   ]
  },
  {
   "cell_type": "code",
   "execution_count": 99,
   "id": "ca31dd5e",
   "metadata": {},
   "outputs": [
    {
     "data": {
      "image/png": "[encoded data removed]",
      "text/plain": [
       "<Figure size 432x288 with 1 Axes>"
      ]
     },
     "metadata": {
      "needs_background": "light"
     },
     "output_type": "display_data"
    }
   ],
   "source": [
    "plt1 = sns.scatterplot(x = 'Yürüş', y = 'Price', hue = 'Yanacaq növü', data = data)\n",
    "plt1.set_xlabel('Kilometrs')\n",
    "plt1.set_ylabel('Price of Car (Manats)')\n",
    "plt.show()"
   ]
  },
  {
   "cell_type": "code",
   "execution_count": 100,
   "id": "9bcef50f",
   "metadata": {},
   "outputs": [
    {
     "data": {
      "image/png": "[encoded data removed]",
      "text/plain": [
       "<Figure size 720x360 with 1 Axes>"
      ]
     },
     "metadata": {
      "needs_background": "light"
     },
     "output_type": "display_data"
    },
    {
     "data": {
      "text/plain": [
       "<Figure size 720x720 with 0 Axes>"
      ]
     },
     "metadata": {},
     "output_type": "display_data"
    }
   ],
   "source": [
    "plt.figure(figsize=(10,5))\n",
    "plt1 = sns.scatterplot(x = 'Buraxılış ili', y = 'Price', data = data)\n",
    "plt.figure(figsize=(10,10))\n",
    "plt1.set_xlabel('years')\n",
    "plt1.set_ylabel('Price of Car (Manats)')\n",
    "plt.show()"
   ]
  },
  {
   "cell_type": "code",
   "execution_count": 101,
   "id": "34b8c490",
   "metadata": {},
   "outputs": [],
   "source": [
    "#Newest cars have highest prices."
   ]
  },
  {
   "cell_type": "code",
   "execution_count": 102,
   "id": "ee707836",
   "metadata": {},
   "outputs": [
    {
     "data": {
      "image/png": "[encoded data removed]",
      "text/plain": [
       "<Figure size 432x288 with 1 Axes>"
      ]
     },
     "metadata": {
      "needs_background": "light"
     },
     "output_type": "display_data"
    }
   ],
   "source": [
    "ax = sns.kdeplot(data[\"Buraxılış ili\"], shade=True, color=\"g\")"
   ]
  },
  {
   "cell_type": "code",
   "execution_count": 103,
   "id": "b1812502",
   "metadata": {},
   "outputs": [],
   "source": [
    "categorical = ['Ban növü','Yanacaq növü','Sürətlər qutusu', 'Ötürücü', 'Yeni','brand_category']\n",
    "numerical = ['Buraxılış ili','Mühərrik', 'Mühərrikin gücü', 'Yürüş']"
   ]
  },
  {
   "cell_type": "code",
   "execution_count": 104,
   "id": "07300ecd",
   "metadata": {},
   "outputs": [],
   "source": [
    "auto = pd.DataFrame()"
   ]
  },
  {
   "cell_type": "code",
   "execution_count": 105,
   "id": "5831abde",
   "metadata": {},
   "outputs": [],
   "source": [
    "for i in categorical:\n",
    "    dummies = pd.get_dummies(data[i], drop_first=True)\n",
    "    auto = pd.concat([auto, dummies], axis = 1)"
   ]
  },
  {
   "cell_type": "code",
   "execution_count": 106,
   "id": "8089f570",
   "metadata": {},
   "outputs": [],
   "source": [
    "auto[numerical+['Price']]= data[numerical+['Price']]"
   ]
  },
  {
   "cell_type": "code",
   "execution_count": 107,
   "id": "b1878605",
   "metadata": {},
   "outputs": [],
   "source": [
    "y_train = auto.pop('Price')\n",
    "X_train = auto"
   ]
  },
  {
   "cell_type": "code",
   "execution_count": 108,
   "id": "2d0134fa",
   "metadata": {},
   "outputs": [
    {
     "data": {
      "text/html": [
       "<div>\n",
       "<style scoped>\n",
       "    .dataframe tbody tr th:only-of-type {\n",
       "        vertical-align: middle;\n",
       "    }\n",
       "\n",
       "    .dataframe tbody tr th {\n",
       "        vertical-align: top;\n",
       "    }\n",
       "\n",
       "    .dataframe thead th {\n",
       "        text-align: right;\n",
       "    }\n",
       "</style>\n",
       "<table border=\"1\" class=\"dataframe\">\n",
       "  <thead>\n",
       "    <tr style=\"text-align: right;\">\n",
       "      <th></th>\n",
       "      <th>Offroader / SUV</th>\n",
       "      <th>Sedan</th>\n",
       "      <th>Universal</th>\n",
       "      <th>Dizel</th>\n",
       "      <th>Hibrid</th>\n",
       "      <th>Mexaniki</th>\n",
       "      <th>Tam</th>\n",
       "      <th>Ön</th>\n",
       "      <th>Xeyr</th>\n",
       "      <th>Luxury</th>\n",
       "      <th>Mid_Range</th>\n",
       "      <th>Buraxılış ili</th>\n",
       "      <th>Mühərrik</th>\n",
       "      <th>Mühərrikin gücü</th>\n",
       "      <th>Yürüş</th>\n",
       "    </tr>\n",
       "  </thead>\n",
       "  <tbody>\n",
       "    <tr>\n",
       "      <th>0</th>\n",
       "      <td>1</td>\n",
       "      <td>0</td>\n",
       "      <td>0</td>\n",
       "      <td>0</td>\n",
       "      <td>0</td>\n",
       "      <td>0</td>\n",
       "      <td>1</td>\n",
       "      <td>0</td>\n",
       "      <td>1</td>\n",
       "      <td>0</td>\n",
       "      <td>1</td>\n",
       "      <td>2016</td>\n",
       "      <td>5.7</td>\n",
       "      <td>367.0</td>\n",
       "      <td>84525.0</td>\n",
       "    </tr>\n",
       "    <tr>\n",
       "      <th>1</th>\n",
       "      <td>1</td>\n",
       "      <td>0</td>\n",
       "      <td>0</td>\n",
       "      <td>0</td>\n",
       "      <td>0</td>\n",
       "      <td>0</td>\n",
       "      <td>1</td>\n",
       "      <td>0</td>\n",
       "      <td>1</td>\n",
       "      <td>0</td>\n",
       "      <td>1</td>\n",
       "      <td>2008</td>\n",
       "      <td>5.7</td>\n",
       "      <td>383.0</td>\n",
       "      <td>225000.0</td>\n",
       "    </tr>\n",
       "    <tr>\n",
       "      <th>2</th>\n",
       "      <td>1</td>\n",
       "      <td>0</td>\n",
       "      <td>0</td>\n",
       "      <td>0</td>\n",
       "      <td>0</td>\n",
       "      <td>0</td>\n",
       "      <td>1</td>\n",
       "      <td>0</td>\n",
       "      <td>1</td>\n",
       "      <td>0</td>\n",
       "      <td>1</td>\n",
       "      <td>2013</td>\n",
       "      <td>5.7</td>\n",
       "      <td>383.0</td>\n",
       "      <td>83000.0</td>\n",
       "    </tr>\n",
       "    <tr>\n",
       "      <th>3</th>\n",
       "      <td>1</td>\n",
       "      <td>0</td>\n",
       "      <td>0</td>\n",
       "      <td>0</td>\n",
       "      <td>0</td>\n",
       "      <td>0</td>\n",
       "      <td>0</td>\n",
       "      <td>1</td>\n",
       "      <td>1</td>\n",
       "      <td>0</td>\n",
       "      <td>1</td>\n",
       "      <td>2021</td>\n",
       "      <td>2.0</td>\n",
       "      <td>150.0</td>\n",
       "      <td>2500.0</td>\n",
       "    </tr>\n",
       "    <tr>\n",
       "      <th>4</th>\n",
       "      <td>1</td>\n",
       "      <td>0</td>\n",
       "      <td>0</td>\n",
       "      <td>0</td>\n",
       "      <td>0</td>\n",
       "      <td>0</td>\n",
       "      <td>0</td>\n",
       "      <td>1</td>\n",
       "      <td>0</td>\n",
       "      <td>0</td>\n",
       "      <td>1</td>\n",
       "      <td>2021</td>\n",
       "      <td>2.0</td>\n",
       "      <td>150.0</td>\n",
       "      <td>0.0</td>\n",
       "    </tr>\n",
       "  </tbody>\n",
       "</table>\n",
       "</div>"
      ],
      "text/plain": [
       "   Offroader / SUV  Sedan  Universal  Dizel  Hibrid  Mexaniki  Tam  Ön  Xeyr  \\\n",
       "0                1      0          0      0       0         0    1   0     1   \n",
       "1                1      0          0      0       0         0    1   0     1   \n",
       "2                1      0          0      0       0         0    1   0     1   \n",
       "3                1      0          0      0       0         0    0   1     1   \n",
       "4                1      0          0      0       0         0    0   1     0   \n",
       "\n",
       "   Luxury  Mid_Range  Buraxılış ili  Mühərrik  Mühərrikin gücü     Yürüş  \n",
       "0       0          1           2016       5.7            367.0   84525.0  \n",
       "1       0          1           2008       5.7            383.0  225000.0  \n",
       "2       0          1           2013       5.7            383.0   83000.0  \n",
       "3       0          1           2021       2.0            150.0    2500.0  \n",
       "4       0          1           2021       2.0            150.0       0.0  "
      ]
     },
     "execution_count": 108,
     "metadata": {},
     "output_type": "execute_result"
    }
   ],
   "source": [
    "X_train.head()"
   ]
  },
  {
   "cell_type": "code",
   "execution_count": 109,
   "id": "d9e447ca",
   "metadata": {},
   "outputs": [],
   "source": [
    "# Importing RFE and LinearRegression\n",
    "from sklearn.feature_selection import RFE\n",
    "from sklearn.linear_model import LinearRegression"
   ]
  },
  {
   "cell_type": "code",
   "execution_count": 110,
   "id": "9d2d05e6",
   "metadata": {},
   "outputs": [],
   "source": [
    "# Running RFE with the output number of the variable equal to 10\n",
    "lm = LinearRegression()\n",
    "lm.fit(X_train, y_train)\n",
    "\n",
    "rfe = RFE(lm, 20)             # running RFE\n",
    "rfe = rfe.fit(X_train, y_train)"
   ]
  },
  {
   "cell_type": "code",
   "execution_count": 111,
   "id": "cc535162",
   "metadata": {},
   "outputs": [
    {
     "data": {
      "text/plain": [
       "[('Offroader / SUV', True, 1),\n",
       " ('Sedan', True, 1),\n",
       " ('Universal', True, 1),\n",
       " ('Dizel', True, 1),\n",
       " ('Hibrid', True, 1),\n",
       " ('Mexaniki', True, 1),\n",
       " ('Tam', True, 1),\n",
       " ('Ön', True, 1),\n",
       " ('Xeyr', True, 1),\n",
       " ('Luxury', True, 1),\n",
       " ('Mid_Range', True, 1),\n",
       " ('Buraxılış ili', True, 1),\n",
       " ('Mühərrik', True, 1),\n",
       " ('Mühərrikin gücü', True, 1),\n",
       " ('Yürüş', True, 1)]"
      ]
     },
     "execution_count": 111,
     "metadata": {},
     "output_type": "execute_result"
    }
   ],
   "source": [
    "list(zip(X_train.columns,rfe.support_,rfe.ranking_))"
   ]
  },
  {
   "cell_type": "code",
   "execution_count": 112,
   "id": "2990dfdc",
   "metadata": {},
   "outputs": [],
   "source": [
    "col = X_train.columns[rfe.support_]"
   ]
  },
  {
   "cell_type": "code",
   "execution_count": 113,
   "id": "29556e0a",
   "metadata": {},
   "outputs": [],
   "source": [
    "# Creating X_test dataframe with RFE selected variables\n",
    "X_train_rfe = X_train[col]"
   ]
  },
  {
   "cell_type": "code",
   "execution_count": 114,
   "id": "7bb12a88",
   "metadata": {},
   "outputs": [],
   "source": [
    "# Adding a constant variable \n",
    "import statsmodels.api as sm  \n",
    "X_train_rfe = sm.add_constant(X_train_rfe)"
   ]
  },
  {
   "cell_type": "code",
   "execution_count": 115,
   "id": "1eda9523",
   "metadata": {},
   "outputs": [],
   "source": [
    "lm = sm.OLS(y_train,X_train_rfe).fit()   # Running the linear model"
   ]
  },
  {
   "cell_type": "code",
   "execution_count": 116,
   "id": "23fbe677",
   "metadata": {},
   "outputs": [
    {
     "name": "stdout",
     "output_type": "stream",
     "text": [
      "                            OLS Regression Results                            \n",
      "==============================================================================\n",
      "Dep. Variable:                  Price   R-squared:                       0.686\n",
      "Model:                            OLS   Adj. R-squared:                  0.683\n",
      "Method:                 Least Squares   F-statistic:                     228.9\n",
      "Date:                Wed, 08 Dec 2021   Prob (F-statistic):               0.00\n",
      "Time:                        16:47:10   Log-Likelihood:                -18394.\n",
      "No. Observations:                1586   AIC:                         3.682e+04\n",
      "Df Residuals:                    1570   BIC:                         3.691e+04\n",
      "Df Model:                          15                                         \n",
      "Covariance Type:            nonrobust                                         \n",
      "===================================================================================\n",
      "                      coef    std err          t      P>|t|      [0.025      0.975]\n",
      "-----------------------------------------------------------------------------------\n",
      "const           -1.586e+06   2.84e+05     -5.587      0.000   -2.14e+06   -1.03e+06\n",
      "Offroader / SUV -1.151e+04   3382.282     -3.403      0.001   -1.81e+04   -4876.805\n",
      "Sedan           -4759.1125   2493.403     -1.909      0.056   -9649.864     131.638\n",
      "Universal       -3345.0539   3918.192     -0.854      0.393    -1.1e+04    4340.387\n",
      "Dizel            9885.9534   2241.348      4.411      0.000    5489.602    1.43e+04\n",
      "Hibrid           2991.1061   3960.745      0.755      0.450   -4777.801    1.08e+04\n",
      "Mexaniki         1.356e+04   2277.704      5.952      0.000    9090.325     1.8e+04\n",
      "Tam              2.218e+04   3044.889      7.286      0.000    1.62e+04    2.82e+04\n",
      "Ön                -84.9229   2339.103     -0.036      0.971   -4673.019    4503.173\n",
      "Xeyr            -5.026e+04   2884.182    -17.428      0.000   -5.59e+04   -4.46e+04\n",
      "Luxury           2.327e+04   4142.763      5.616      0.000    1.51e+04    3.14e+04\n",
      "Mid_Range        1.393e+04   1938.469      7.184      0.000    1.01e+04    1.77e+04\n",
      "Buraxılış ili     809.0867    141.036      5.737      0.000     532.447    1085.726\n",
      "Mühərrik        -1.011e+04   1530.157     -6.606      0.000   -1.31e+04   -7106.994\n",
      "Mühərrikin gücü   313.1376     15.411     20.319      0.000     282.909     343.366\n",
      "Yürüş              -0.0303      0.007     -4.264      0.000      -0.044      -0.016\n",
      "==============================================================================\n",
      "Omnibus:                     1087.033   Durbin-Watson:                   1.811\n",
      "Prob(Omnibus):                  0.000   Jarque-Bera (JB):            35987.751\n",
      "Skew:                           2.737   Prob(JB):                         0.00\n",
      "Kurtosis:                      25.685   Cond. No.                     8.09e+07\n",
      "==============================================================================\n",
      "\n",
      "Notes:\n",
      "[1] Standard Errors assume that the covariance matrix of the errors is correctly specified.\n",
      "[2] The condition number is large, 8.09e+07. This might indicate that there are\n",
      "strong multicollinearity or other numerical problems.\n"
     ]
    }
   ],
   "source": [
    "#Let's see the summary of our linear model\n",
    "print(lm.summary())"
   ]
  },
  {
   "cell_type": "code",
   "execution_count": null,
   "id": "dda5d359",
   "metadata": {},
   "outputs": [],
   "source": []
  },
  {
   "cell_type": "code",
   "execution_count": null,
   "id": "acf8a258",
   "metadata": {},
   "outputs": [],
   "source": []
  },
  {
   "cell_type": "code",
   "execution_count": null,
   "id": "ff04aa8a",
   "metadata": {},
   "outputs": [],
   "source": []
  }
 ],
 "metadata": {
  "kernelspec": {
   "display_name": "Python 3",
   "language": "python",
   "name": "python3"
  },
  "language_info": {
   "codemirror_mode": {
    "name": "ipython",
    "version": 3
   },
   "file_extension": ".py",
   "mimetype": "text/x-python",
   "name": "python",
   "nbconvert_exporter": "python",
   "pygments_lexer": "ipython3",
   "version": "3.8.8"
  }
 },
 "nbformat": 4,
 "nbformat_minor": 5
}
